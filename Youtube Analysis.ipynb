{
 "cells": [
  {
   "cell_type": "code",
   "execution_count": 2,
   "metadata": {
    "collapsed": false,
    "scrolled": true
   },
   "outputs": [],
   "source": [
    "import pandas as pd\n",
    "import numpy as np\n",
    "import seaborn as sns\n",
    "import os\n",
    "import matplotlib\n",
    "import matplotlib.pyplot as plt\n",
    "from matplotlib import cm \n",
    "from pyspark import SparkConf\n",
    "from subprocess import check_output\n",
    "\n",
    "\n",
    "\n",
    "matplotlib.rcParams['figure.figsize'] = (10,10)"
   ]
  },
  {
   "cell_type": "code",
   "execution_count": 3,
   "metadata": {
    "collapsed": false
   },
   "outputs": [
    {
     "data": {
      "text/html": [
       "\n",
       "        <div>\n",
       "            <p><b>SparkContext</b></p>\n",
       "\n",
       "            <p><a href=\"http://10.0.2.15:4044\">Spark UI</a></p>\n",
       "\n",
       "            <dl>\n",
       "              <dt>Version</dt>\n",
       "                <dd><code>v2.3.1</code></dd>\n",
       "              <dt>Master</dt>\n",
       "                <dd><code>local[*]</code></dd>\n",
       "              <dt>AppName</dt>\n",
       "                <dd><code>PySparkShell</code></dd>\n",
       "            </dl>\n",
       "        </div>\n",
       "        "
      ],
      "text/plain": [
       "<SparkContext master=local[*] appName=PySparkShell>"
      ]
     },
     "execution_count": 3,
     "metadata": {},
     "output_type": "execute_result"
    }
   ],
   "source": [
    "sc"
   ]
  },
  {
   "cell_type": "code",
   "execution_count": 4,
   "metadata": {
    "collapsed": false
   },
   "outputs": [
    {
     "data": {
      "text/plain": [
       "u'local[*]'"
      ]
     },
     "execution_count": 4,
     "metadata": {},
     "output_type": "execute_result"
    }
   ],
   "source": [
    "sc.master"
   ]
  },
  {
   "cell_type": "code",
   "execution_count": 5,
   "metadata": {
    "collapsed": true
   },
   "outputs": [],
   "source": [
    "# Import regex module\n",
    "import re, string\n",
    "from operator import add"
   ]
  },
  {
   "cell_type": "code",
   "execution_count": 6,
   "metadata": {
    "collapsed": false
   },
   "outputs": [],
   "source": [
    "gb = sc.textFile(\"hdfs://localhost:54310/Youtube/GBvideos.csv\")\n",
    "de = sc.textFile(\"hdfs://localhost:54310/Youtube/DEvideos.csv\")\n",
    "us = sc.textFile(\"hdfs://localhost:54310/Youtube/USvideos.csv\")\n",
    "ca = sc.textFile(\"hdfs://localhost:54310/Youtube/CAvideos.csv\")\n",
    "fr = sc.textFile(\"hdfs://localhost:54310/Youtube/FRvideos.csv\")"
   ]
  },
  {
   "cell_type": "code",
   "execution_count": 7,
   "metadata": {
    "collapsed": false,
    "scrolled": true
   },
   "outputs": [
    {
     "data": {
      "text/plain": [
       "48698"
      ]
     },
     "execution_count": 7,
     "metadata": {},
     "output_type": "execute_result"
    }
   ],
   "source": [
    "us.count()"
   ]
  },
  {
   "cell_type": "code",
   "execution_count": 8,
   "metadata": {
    "collapsed": false
   },
   "outputs": [
    {
     "data": {
      "text/plain": [
       "[u'video_id,trending_date,title,channel_title,category_id,publish_time,tags,views,likes,dislikes,comment_count,thumbnail_link,comments_disabled,ratings_disabled,video_error_or_removed,description',\n",
       " u'2kyS6SvSYSE,17.14.11,\"WE WANT TO TALK ABOUT OUR MARRIAGE\",\"CaseyNeistat\",22,2017-11-13T17:13:01.000Z,\"SHANtell martin\",748374,57527,2966,15954,https://i.ytimg.com/vi/2kyS6SvSYSE/default.jpg,False,False,False,\"SHANTELL\\'S CHANNEL - https://www.youtube.com/shantellmartin\\\\nCANDICE - https://www.lovebilly.com\\\\n\\\\nfilmed this video in 4k on this -- http://amzn.to/2sTDnRZ\\\\nwith this lens -- http://amzn.to/2rUJOmD\\\\nbig drone - http://tinyurl.com/h4ft3oy\\\\nOTHER GEAR ---  http://amzn.to/2o3GLX5\\\\nSony CAMERA http://amzn.to/2nOBmnv\\\\nOLD CAMERA; http://amzn.to/2o2cQBT\\\\nMAIN LENS; http://amzn.to/2od5gBJ\\\\nBIG SONY CAMERA; http://amzn.to/2nrdJRO\\\\nBIG Canon CAMERA; http://tinyurl.com/jn4q4vz\\\\nBENDY TRIPOD THING; http://tinyurl.com/gw3ylz2\\\\nYOU NEED THIS FOR THE BENDY TRIPOD; http://tinyurl.com/j8mzzua\\\\nWIDE LENS; http://tinyurl.com/jkfcm8t\\\\nMORE EXPENSIVE WIDE LENS; http://tinyurl.com/zrdgtou\\\\nSMALL CAMERA; http://tinyurl.com/hrrzhor\\\\nMICROPHONE; http://tinyurl.com/zefm4jy\\\\nOTHER MICROPHONE; http://tinyurl.com/jxgpj86\\\\nOLD DRONE (cheaper but still great);http://tinyurl.com/zcfmnmd\\\\n\\\\nfollow me; on http://instagram.com/caseyneistat\\\\non https://www.facebook.com/cneistat\\\\non https://twitter.com/CaseyNeistat\\\\n\\\\namazing intro song by https://soundcloud.com/discoteeth\\\\n\\\\nad disclosure.  THIS IS NOT AN AD.  not selling or promoting anything.  but samsung did produce the Shantell Video as a \\'GALAXY PROJECT\\' which is an initiative that enables creators like Shantell and me to make projects we might otherwise not have the opportunity to make.  hope that\\'s clear.  if not ask in the comments and i\\'ll answer any specifics.\"',\n",
       " u'1ZAPwfrtAFY,17.14.11,\"The Trump Presidency: Last Week Tonight with John Oliver (HBO)\",\"LastWeekTonight\",24,2017-11-13T07:30:00.000Z,\"last week tonight trump presidency\"|\"last week tonight donald trump\"|\"john oliver trump\"|\"donald trump\",2418783,97185,6146,12703,https://i.ytimg.com/vi/1ZAPwfrtAFY/default.jpg,False,False,False,\"One year after the presidential election, John Oliver discusses what we\\'ve learned so far and enlists our catheter cowboy to teach Donald Trump what he hasn\\'t.\\\\n\\\\nConnect with Last Week Tonight online...\\\\n\\\\nSubscribe to the Last Week Tonight YouTube channel for more almost news as it almost happens: www.youtube.com/user/LastWeekTonight\\\\n\\\\nFind Last Week Tonight on Facebook like your mom would: http://Facebook.com/LastWeekTonight\\\\n\\\\nFollow us on Twitter for news about jokes and jokes about news: http://Twitter.com/LastWeekTonight\\\\n\\\\nVisit our official site for all that other stuff at once: http://www.hbo.com/lastweektonight\"',\n",
       " u'5qpjK5DgCt4,17.14.11,\"Racist Superman | Rudy Mancuso, King Bach & Lele Pons\",\"Rudy Mancuso\",23,2017-11-12T19:05:24.000Z,\"racist superman\"|\"rudy\"|\"mancuso\"|\"king\"|\"bach\"|\"racist\"|\"superman\"|\"love\"|\"rudy mancuso poo bear black white official music video\"|\"iphone x by pineapple\"|\"lelepons\"|\"hannahstocking\"|\"rudymancuso\"|\"inanna\"|\"anwar\"|\"sarkis\"|\"shots\"|\"shotsstudios\"|\"alesso\"|\"anitta\"|\"brazil\"|\"Getting My Driver\\'s License | Lele Pons\",3191434,146033,5339,8181,https://i.ytimg.com/vi/5qpjK5DgCt4/default.jpg,False,False,False,\"WATCH MY PREVIOUS VIDEO \\u25b6 \\\\n\\\\nSUBSCRIBE \\u25ba https://www.youtube.com/channel/UC5jkXpfnBhlDjqh0ir5FsIQ?sub_confirmation=1\\\\n\\\\nTHANKS FOR WATCHING! LIKE & SUBSCRIBE FOR MORE VIDEOS!\\\\n-----------------------------------------------------------\\\\nFIND ME ON: \\\\nInstagram | http://instagram.com/rudymancuso\\\\nTwitter | http://twitter.com/rudymancuso\\\\nFacebook | http://facebook.com/rudymancuso\\\\n\\\\nCAST: \\\\nRudy Mancuso | http://youtube.com/c/rudymancuso\\\\nLele Pons | http://youtube.com/c/lelepons\\\\nKing Bach | https://youtube.com/user/BachelorsPadTv\\\\n\\\\nVideo Effects: \\\\nCaleb Natale | https://instagram.com/calebnatale\\\\n\\\\nPA:\\\\nPaulina Gregory\\\\n\\\\n\\\\nShots Studios Channels:\\\\nAlesso | https://youtube.com/c/alesso\\\\nAnitta | http://youtube.com/c/anitta\\\\nAnwar Jibawi | http://youtube.com/c/anwar\\\\nAwkward Puppets | http://youtube.com/c/awkwardpuppets\\\\nHannah Stocking | http://youtube.com/c/hannahstocking\\\\nInanna Sarkis | http://youtube.com/c/inanna\\\\nLele Pons | http://youtube.com/c/lelepons\\\\nMaejor | http://youtube.com/c/maejor\\\\nMike Tyson | http://youtube.com/c/miketyson \\\\nRudy Mancuso | http://youtube.com/c/rudymancuso\\\\nShots Studios | http://youtube.com/c/shots\\\\n\\\\n#Rudy\\\\n#RudyMancuso\"',\n",
       " u'puqaWrEC7tY,17.14.11,\"Nickelback Lyrics: Real or Fake?\",\"Good Mythical Morning\",24,2017-11-13T11:00:04.000Z,\"rhett and link\"|\"gmm\"|\"good mythical morning\"|\"rhett and link good mythical morning\"|\"good mythical morning rhett and link\"|\"mythical morning\"|\"Season 12\"|\"nickelback lyrics\"|\"nickelback lyrics real or fake\"|\"nickelback\"|\"nickelback songs\"|\"nickelback song\"|\"rhett link nickelback\"|\"gmm nickelback\"|\"lyrics (website category)\"|\"nickelback (musical group)\"|\"rock\"|\"music\"|\"lyrics\"|\"chad kroeger\"|\"canada\"|\"music (industry)\"|\"mythical\"|\"gmm challenge\"|\"comedy\"|\"funny\"|\"challenge\",343168,10172,666,2146,https://i.ytimg.com/vi/puqaWrEC7tY/default.jpg,False,False,False,\"Today we find out if Link is a Nickelback amateur or a secret Nickelback devotee. GMM #1218\\\\nDon\\'t miss an all new Ear Biscuits: https://goo.gl/xeZNQt\\\\nWatch Part 4: https://youtu.be/MhCdiiB8CQg | Watch Part 2: https://youtu.be/7qiOrNao9fg\\\\nWatch today\\'s episode from the start: http://bit.ly/GMM1218\\\\n\\\\nPick up all of the official GMM merch only at https://mythical.store\\\\n\\\\nFollow Rhett & Link: \\\\nInstagram: https://instagram.com/rhettandlink\\\\nFacebook: https://facebook.com/rhettandlink\\\\nTwitter: https://twitter.com/rhettandlink\\\\nTumblr: https://rhettandlink.tumblr.com\\\\nSnapchat: @realrhettlink\\\\nWebsite: https://mythical.co/\\\\n\\\\nCheck Out Our Other Mythical Channels:\\\\nGood Mythical MORE: https://youtube.com/goodmythicalmore\\\\nRhett & Link: https://youtube.com/rhettandlink\\\\nThis Is Mythical: https://youtube.com/thisismythical\\\\nEar Biscuits: https://applepodcasts.com/earbiscuits\\\\n\\\\nWant to send us something? https://mythical.co/contact\\\\nHave you made a Wheel of Mythicality intro video? Submit it here: https://bit.ly/GMMWheelIntro\\\\n\\\\nIntro Animation by Digital Twigs: https://www.digitaltwigs.com\\\\nIntro & Outro Music by Jeff Zeigler & Sarah Schimeneck https://www.jeffzeigler.com\\\\nWheel of Mythicality theme: https://www.royaltyfreemusiclibrary.com/\\\\nAll Supplemental Music fromOpus 1 Music: https://opus1.sourceaudio.com/\\\\nWe use \\u2018The Mouse\\u2019 by Blue Microphones https://www.bluemic.com/mouse/\"',\n",
       " u'd380meD0W0M,17.14.11,\"I Dare You: GOING BALD!?\",\"nigahiga\",24,2017-11-12T18:01:41.000Z,\"ryan\"|\"higa\"|\"higatv\"|\"nigahiga\"|\"i dare you\"|\"idy\"|\"rhpc\"|\"dares\"|\"no truth\"|\"comments\"|\"comedy\"|\"funny\"|\"stupid\"|\"fail\",2095731,132235,1989,17518,https://i.ytimg.com/vi/d380meD0W0M/default.jpg,False,False,False,\"I know it\\'s been a while since we did this show, but we\\'re back with what might be the best episode yet!\\\\nLeave your dares in the comment section! \\\\n\\\\nOrder my book how to write good \\\\nhttp://higatv.com/ryan-higas-how-to-write-good-pre-order-links/\\\\n\\\\nJust Launched New Official Store\\\\nhttps://www.gianthugs.com/collections/ryan\\\\n\\\\nHigaTV Channel\\\\nhttp://www.youtube.com/higatv\\\\n\\\\nTwitter\\\\nhttp://www.twitter.com/therealryanhiga\\\\n\\\\nFacebook\\\\nhttp://www.facebook.com/higatv\\\\n\\\\nWebsite\\\\nhttp://www.higatv.com\\\\n\\\\nInstagram\\\\nhttp://www.instagram.com/notryanhiga\\\\n\\\\nSend us mail or whatever you want here!\\\\nPO Box 232355\\\\nLas Vegas, NV 89105\"',\n",
       " u'gHZ1Qz0KiKM,17.14.11,\"2 Weeks with iPhone X\",\"iJustine\",28,2017-11-13T19:07:23.000Z,\"ijustine\"|\"week with iPhone X\"|\"iphone x\"|\"apple\"|\"iphone\"|\"iphone x review\"|\"iphone x unboxing\",119180,9763,511,1434,https://i.ytimg.com/vi/gHZ1Qz0KiKM/default.jpg,False,False,False,\"Using the iPhone for the past two weeks -- here\\'s my thoughts!\\\\nAll my iPhone X Videos: https://www.youtube.com/watch?v=vqztGUwhRlQ&list=PLoYRB6C09WUDbCndtEDELX-Fpk_pgATvF\\\\n\\u25ba SUBSCRIBE FOR MORE VIDEOS: http://www.youtube.com/subscription_center?add_user=ijustine\\\\n\\u25ba Get my BOOK! http://ijustinebook.com\\\\n\\u25ba Get my iOS 10 STICKERS! http://ijustinestickers.com\\\\n\\\\n\\u25bc SOCIAL\\\\nhttp://instagram.com/ijustine\\\\nhttp://facebook.com/ijustine\\\\nhttp://twitter.com/ijustine\\\\nSnapchat: iJustine\\\\n\\\\n\\u2014\\u2014\\u2014\\u2014\\u2014\\u2014\\u2014\\u2014\\u2014\\u2014\\u2014\\u2014\\\\n\\\\n\\u25bc STUFF I USE TO MAKE VIDEOS\\\\n\\\\nSony rx100 V - http://amzn.to/2jesbxA\\\\nG7X ii - http://amzn.to/2f6n2Bs\\\\nCanon 80D - http://amzn.to/2eRKhQo\\\\nSony A7s ii - http://amzn.to/2ebLR16\\\\nSony a6500 - http://amzn.to/2okeG2a\\\\nGoPro Hero 5 - http://amzn.to/2e1KyhM\\\\nGoPro Hero 5 Session - http://amzn.to/2oksMQT\\\\nEpidemic Sound - https://goo.gl/Pe7GTL \\\\n\\\\nFavorite lenses: \\\\nCanon EF 24-70mm - http://amzn.to/2dT7mFr\\\\nCanon EF-S 10-18mm - http://amzn.to/2dT62SU\\\\nSony 16-35mm (full frame) - http://amzn.to/2ftPaTf\\\\nSony Distagon 35mm (full frame) - http://amzn.to/2oB0XQj\\\\nSony 10-18mm wide angle - http://amzn.to/2e1Myqz\\\\n\\\\nRode Small on camera microphone - http://amzn.to/2fkiVGJ\\\\nRode Larger (battery required) microphone - http://amzn.to/2ftNkl8\\\\nSony XLR adapter Microphone - http://amzn.to/2kCcIDH\\\\nSmall Sony Microphone - http://amzn.to/2oX7Eih\\\\n\\\\nFavorite SD Card - http://amzn.to/2oWRGoD\\\\n\\\\nDJI Mavic Pro - http://amzn.to/2f6nL5E\\\\nPhantom 4 Pro - http://amzn.to/2pbDrN1\\\\nPhantom 4 Pro Plus  - http://amzn.to/2oX63Jz\"',\n",
       " u'39idVpFF7NQ,17.14.11,\"Roy Moore & Jeff Sessions Cold Open - SNL\",\"Saturday Night Live\",24,2017-11-12T05:37:17.000Z,\"SNL\"|\"Saturday Night Live\"|\"SNL Season 43\"|\"Episode 1730\"|\"Tiffany Haddish\"|\"Roy Moore\"|\"Mikey Day\"|\"Mike Pence\"|\"Beck Bennett\"|\"Jeff Sessions\"|\"Kate McKinnon\"|\"s43\"|\"s43e5\"|\"episode 5\"|\"live\"|\"new york\"|\"comedy\"|\"sketch\"|\"funny\"|\"hilarious\"|\"late night\"|\"host\"|\"music\"|\"guest\"|\"laugh\"|\"impersonation\"|\"actor\"|\"improv\"|\"musician\"|\"comedian\"|\"actress\"|\"If Loving You Is Wrong\"|\"Oprah Winfrey\"|\"OWN\"|\"Girls Trip\"|\"The Carmichael Show\"|\"Keanu\"|\"Taylor Swift\"|\"Reputation\"|\"Look What You Made Me Do\"|\"ready for it?\"|\"cold open\",2103417,15993,2445,1970,https://i.ytimg.com/vi/39idVpFF7NQ/default.jpg,False,False,False,\"Embattled Alabama Senate candidate Roy Moore (Mikey Day) meets with Vice President Mike Pence (Beck Bennett) and Attorney General Jeff Sessions (Kate McKinnon).\\\\n\\\\n#SNL #SNL43\\\\n\\\\nGet more SNL: http://www.nbc.com/saturday-night-live\\\\nFull Episodes: http://www.nbc.com/saturday-night-liv...\\\\n\\\\nLike SNL: https://www.facebook.com/snl\\\\nFollow SNL: https://twitter.com/nbcsnl\\\\nSNL Tumblr: http://nbcsnl.tumblr.com/\\\\nSNL Instagram: http://instagram.com/nbcsnl \\\\nSNL Pinterest: http://www.pinterest.com/nbcsnl/\"',\n",
       " u'nc99ccSXST0,17.14.11,\"5 Ice Cream Gadgets put to the Test\",\"CrazyRussianHacker\",28,2017-11-12T21:50:37.000Z,\"5 Ice Cream Gadgets\"|\"Ice Cream\"|\"Cream Sandwich Maker\"|\"gadgets\"|\"gadget review\"|\"review\"|\"unboxing\"|\"kitchen gadgets\"|\"Gadgets put to the Test\"|\"testing\"|\"10 Kitchen Gadgets\"|\"7 Camping Coffee Gadgets\"|\"10 Kitchen Gadgets put to the Test\",817732,23663,778,3432,https://i.ytimg.com/vi/nc99ccSXST0/default.jpg,False,False,False,\"Ice Cream Pint Combination Lock - http://amzn.to/2ACipdI\\\\nMini Ice Cream Sandwich Maker - http://amzn.to/2ACiX3g\\\\nMotorized Ice Cream Cone - http://amzn.to/2jkrYdg\\\\nBall Ice Cream Maker - http://amzn.to/2AEbtwE\\\\nScoop and Stack - http://amzn.to/2zEMhGo\\\\n\\\\nSubscribe to: \\\\n2nd channel - https://www.youtube.com/user/origami768\\\\ninstagram https://instagram.com/crazyrussianhacker/\\\\nfacebook - https://www.facebook.com/CrazyRussianHacker\\\\n\\\\nDON\\'T TRY THIS AT HOME!\\\\n\\\\nBusiness email: crh.inquire@gmail.com\\\\n\\\\nFAN MAIL:  \\\\nCRAZY RUSSIAN HACKER\\\\nP.O. Box 49\\\\nWaynesville, NC 28786\\\\n\\\\nDISCLAIMER: In this video description contains affiliate links, which means that if you click on one of the product links, I\\u2019ll receive a small commission.\"',\n",
       " u'jr9QtXwC9vc,17.14.11,\"The Greatest Showman | Official Trailer 2 [HD] | 20th Century FOX\",\"20th Century Fox\",1,2017-11-13T14:00:23.000Z,\"Trailer\"|\"Hugh Jackman\"|\"Michelle Williams\"|\"Zac Efron\"|\"Zendaya\"|\"Rebecca Ferguson\"|\"pasek and paul\"|\"la la land\"|\"moulin rouge\"|\"high school musical\"|\"hugh jackman musical\"|\"zac efron musical\"|\"musical\"|\"the greatest showman\"|\"greatest showman\"|\"Michael Gracey\"|\"P.T. Barnum\"|\"Barnum and Bailey\"|\"Barnum Circus\"|\"Barnum and Bailey Circus\"|\"20th century fox\"|\"greatest showman trailer\"|\"trailer\"|\"official trailer\"|\"the greatest showman trailer\"|\"logan\"|\"Benj Pasek\"|\"Justin Paul\",826059,3543,119,340,https://i.ytimg.com/vi/jr9QtXwC9vc/default.jpg,False,False,False,\"Inspired by the imagination of P.T. Barnum, The Greatest Showman is an original musical that celebrates the birth of show business & tells of a visionary who rose from nothing to create a spectacle that became a worldwide sensation.\\\\n\\\\nIn Theaters This Christmas\\\\n\\\\nDirected By Michael Gracey\\\\nCast: Hugh Jackman, Michelle Williams, Zac Efron, Zendaya, Rebecca Ferguson\\\\n\\\\nSUBSCRIBE: http://bit.ly/FOXSubscribe\\\\n\\\\n\\\\nVisit the Official Site Here: http://www.foxmovies.com/movies/the-greatest-showman\\\\nLike The Greatest Showman on FACEBOOK: http://fox.co/GreatestShowmanFB\\\\nFollow The Greatest Showman on TWITTER: http://fox.co/GreatestShowmanTW\\\\nFollow The Greatest Showman on INSTAGRAM: http://fox.co/GreatestShowmanIG\\\\n\\\\n#GreatestShowman\\\\n\\\\nAbout 20th Century FOX:\\\\nOfficial YouTube Channel for 20th Century Fox Movies. Home of Avatar, Aliens, X-Men, Die Hard, Deadpool, Ice Age, Alvin and the Chipmunks, Rio, Peanuts, Maze Runner, Planet of the Apes, Wolverine and many more.\\\\n\\\\nConnect with 20th Century FOX Online:\\\\nVisit the 20th Century FOX WEBSITE: http://bit.ly/FOXMovie\\\\nLike 20th Century FOX on FACEBOOK: http://bit.ly/FOXFacebook\\\\nFollow 20th Century FOX on TWITTER: http://bit.ly/TwitterFOX\\\\n\\\\nThe Greatest Showman | Official Trailer 2 [HD] | 20th Century FOX\\\\nhttp://www.youtube.com/user/FoxMovies\"']"
      ]
     },
     "execution_count": 8,
     "metadata": {},
     "output_type": "execute_result"
    }
   ],
   "source": [
    "us.take(10)"
   ]
  },
  {
   "cell_type": "code",
   "execution_count": 9,
   "metadata": {
    "collapsed": false
   },
   "outputs": [
    {
     "name": "stdout",
     "output_type": "stream",
     "text": [
      "video_id,trending_date,title,channel_title,category_id,publish_time,tags,views,likes,dislikes,comment_count,thumbnail_link,comments_disabled,ratings_disabled,video_error_or_removed,description\n"
     ]
    }
   ],
   "source": [
    "header = us.first()\n",
    "print header"
   ]
  },
  {
   "cell_type": "code",
   "execution_count": 10,
   "metadata": {
    "collapsed": false
   },
   "outputs": [],
   "source": [
    "noheader = us.filter(lambda x: x<>header)"
   ]
  },
  {
   "cell_type": "code",
   "execution_count": 11,
   "metadata": {
    "collapsed": false
   },
   "outputs": [
    {
     "data": {
      "text/plain": [
       "u'2kyS6SvSYSE,17.14.11,\"WE WANT TO TALK ABOUT OUR MARRIAGE\",\"CaseyNeistat\",22,2017-11-13T17:13:01.000Z,\"SHANtell martin\",748374,57527,2966,15954,https://i.ytimg.com/vi/2kyS6SvSYSE/default.jpg,False,False,False,\"SHANTELL\\'S CHANNEL - https://www.youtube.com/shantellmartin\\\\nCANDICE - https://www.lovebilly.com\\\\n\\\\nfilmed this video in 4k on this -- http://amzn.to/2sTDnRZ\\\\nwith this lens -- http://amzn.to/2rUJOmD\\\\nbig drone - http://tinyurl.com/h4ft3oy\\\\nOTHER GEAR ---  http://amzn.to/2o3GLX5\\\\nSony CAMERA http://amzn.to/2nOBmnv\\\\nOLD CAMERA; http://amzn.to/2o2cQBT\\\\nMAIN LENS; http://amzn.to/2od5gBJ\\\\nBIG SONY CAMERA; http://amzn.to/2nrdJRO\\\\nBIG Canon CAMERA; http://tinyurl.com/jn4q4vz\\\\nBENDY TRIPOD THING; http://tinyurl.com/gw3ylz2\\\\nYOU NEED THIS FOR THE BENDY TRIPOD; http://tinyurl.com/j8mzzua\\\\nWIDE LENS; http://tinyurl.com/jkfcm8t\\\\nMORE EXPENSIVE WIDE LENS; http://tinyurl.com/zrdgtou\\\\nSMALL CAMERA; http://tinyurl.com/hrrzhor\\\\nMICROPHONE; http://tinyurl.com/zefm4jy\\\\nOTHER MICROPHONE; http://tinyurl.com/jxgpj86\\\\nOLD DRONE (cheaper but still great);http://tinyurl.com/zcfmnmd\\\\n\\\\nfollow me; on http://instagram.com/caseyneistat\\\\non https://www.facebook.com/cneistat\\\\non https://twitter.com/CaseyNeistat\\\\n\\\\namazing intro song by https://soundcloud.com/discoteeth\\\\n\\\\nad disclosure.  THIS IS NOT AN AD.  not selling or promoting anything.  but samsung did produce the Shantell Video as a \\'GALAXY PROJECT\\' which is an initiative that enables creators like Shantell and me to make projects we might otherwise not have the opportunity to make.  hope that\\'s clear.  if not ask in the comments and i\\'ll answer any specifics.\"'"
      ]
     },
     "execution_count": 11,
     "metadata": {},
     "output_type": "execute_result"
    }
   ],
   "source": [
    "noheader.first()"
   ]
  },
  {
   "cell_type": "code",
   "execution_count": 12,
   "metadata": {
    "collapsed": false
   },
   "outputs": [
    {
     "data": {
      "text/plain": [
       "[[u'2kyS6SvSYSE',\n",
       "  u'17.14.11',\n",
       "  u'\"WE WANT TO TALK ABOUT OUR MARRIAGE\"',\n",
       "  u'\"CaseyNeistat\"',\n",
       "  u'22',\n",
       "  u'2017-11-13T17:13:01.000Z',\n",
       "  u'\"SHANtell martin\"',\n",
       "  u'748374',\n",
       "  u'57527',\n",
       "  u'2966',\n",
       "  u'15954',\n",
       "  u'https://i.ytimg.com/vi/2kyS6SvSYSE/default.jpg',\n",
       "  u'False',\n",
       "  u'False',\n",
       "  u'False',\n",
       "  u'\"SHANTELL\\'S CHANNEL - https://www.youtube.com/shantellmartin\\\\nCANDICE - https://www.lovebilly.com\\\\n\\\\nfilmed this video in 4k on this -- http://amzn.to/2sTDnRZ\\\\nwith this lens -- http://amzn.to/2rUJOmD\\\\nbig drone - http://tinyurl.com/h4ft3oy\\\\nOTHER GEAR ---  http://amzn.to/2o3GLX5\\\\nSony CAMERA http://amzn.to/2nOBmnv\\\\nOLD CAMERA; http://amzn.to/2o2cQBT\\\\nMAIN LENS; http://amzn.to/2od5gBJ\\\\nBIG SONY CAMERA; http://amzn.to/2nrdJRO\\\\nBIG Canon CAMERA; http://tinyurl.com/jn4q4vz\\\\nBENDY TRIPOD THING; http://tinyurl.com/gw3ylz2\\\\nYOU NEED THIS FOR THE BENDY TRIPOD; http://tinyurl.com/j8mzzua\\\\nWIDE LENS; http://tinyurl.com/jkfcm8t\\\\nMORE EXPENSIVE WIDE LENS; http://tinyurl.com/zrdgtou\\\\nSMALL CAMERA; http://tinyurl.com/hrrzhor\\\\nMICROPHONE; http://tinyurl.com/zefm4jy\\\\nOTHER MICROPHONE; http://tinyurl.com/jxgpj86\\\\nOLD DRONE (cheaper but still great);http://tinyurl.com/zcfmnmd\\\\n\\\\nfollow me; on http://instagram.com/caseyneistat\\\\non https://www.facebook.com/cneistat\\\\non https://twitter.com/CaseyNeistat\\\\n\\\\namazing intro song by https://soundcloud.com/discoteeth\\\\n\\\\nad disclosure.  THIS IS NOT AN AD.  not selling or promoting anything.  but samsung did produce the Shantell Video as a \\'GALAXY PROJECT\\' which is an initiative that enables creators like Shantell and me to make projects we might otherwise not have the opportunity to make.  hope that\\'s clear.  if not ask in the comments and i\\'ll answer any specifics.\"'],\n",
       " [u'1ZAPwfrtAFY',\n",
       "  u'17.14.11',\n",
       "  u'\"The Trump Presidency: Last Week Tonight with John Oliver (HBO)\"',\n",
       "  u'\"LastWeekTonight\"',\n",
       "  u'24',\n",
       "  u'2017-11-13T07:30:00.000Z',\n",
       "  u'\"last week tonight trump presidency\"|\"last week tonight donald trump\"|\"john oliver trump\"|\"donald trump\"',\n",
       "  u'2418783',\n",
       "  u'97185',\n",
       "  u'6146',\n",
       "  u'12703',\n",
       "  u'https://i.ytimg.com/vi/1ZAPwfrtAFY/default.jpg',\n",
       "  u'False',\n",
       "  u'False',\n",
       "  u'False',\n",
       "  u'\"One year after the presidential election',\n",
       "  u' John Oliver discusses what we\\'ve learned so far and enlists our catheter cowboy to teach Donald Trump what he hasn\\'t.\\\\n\\\\nConnect with Last Week Tonight online...\\\\n\\\\nSubscribe to the Last Week Tonight YouTube channel for more almost news as it almost happens: www.youtube.com/user/LastWeekTonight\\\\n\\\\nFind Last Week Tonight on Facebook like your mom would: http://Facebook.com/LastWeekTonight\\\\n\\\\nFollow us on Twitter for news about jokes and jokes about news: http://Twitter.com/LastWeekTonight\\\\n\\\\nVisit our official site for all that other stuff at once: http://www.hbo.com/lastweektonight\"'],\n",
       " [u'5qpjK5DgCt4',\n",
       "  u'17.14.11',\n",
       "  u'\"Racist Superman | Rudy Mancuso',\n",
       "  u' King Bach & Lele Pons\"',\n",
       "  u'\"Rudy Mancuso\"',\n",
       "  u'23',\n",
       "  u'2017-11-12T19:05:24.000Z',\n",
       "  u'\"racist superman\"|\"rudy\"|\"mancuso\"|\"king\"|\"bach\"|\"racist\"|\"superman\"|\"love\"|\"rudy mancuso poo bear black white official music video\"|\"iphone x by pineapple\"|\"lelepons\"|\"hannahstocking\"|\"rudymancuso\"|\"inanna\"|\"anwar\"|\"sarkis\"|\"shots\"|\"shotsstudios\"|\"alesso\"|\"anitta\"|\"brazil\"|\"Getting My Driver\\'s License | Lele Pons\"',\n",
       "  u'3191434',\n",
       "  u'146033',\n",
       "  u'5339',\n",
       "  u'8181',\n",
       "  u'https://i.ytimg.com/vi/5qpjK5DgCt4/default.jpg',\n",
       "  u'False',\n",
       "  u'False',\n",
       "  u'False',\n",
       "  u'\"WATCH MY PREVIOUS VIDEO \\u25b6 \\\\n\\\\nSUBSCRIBE \\u25ba https://www.youtube.com/channel/UC5jkXpfnBhlDjqh0ir5FsIQ?sub_confirmation=1\\\\n\\\\nTHANKS FOR WATCHING! LIKE & SUBSCRIBE FOR MORE VIDEOS!\\\\n-----------------------------------------------------------\\\\nFIND ME ON: \\\\nInstagram | http://instagram.com/rudymancuso\\\\nTwitter | http://twitter.com/rudymancuso\\\\nFacebook | http://facebook.com/rudymancuso\\\\n\\\\nCAST: \\\\nRudy Mancuso | http://youtube.com/c/rudymancuso\\\\nLele Pons | http://youtube.com/c/lelepons\\\\nKing Bach | https://youtube.com/user/BachelorsPadTv\\\\n\\\\nVideo Effects: \\\\nCaleb Natale | https://instagram.com/calebnatale\\\\n\\\\nPA:\\\\nPaulina Gregory\\\\n\\\\n\\\\nShots Studios Channels:\\\\nAlesso | https://youtube.com/c/alesso\\\\nAnitta | http://youtube.com/c/anitta\\\\nAnwar Jibawi | http://youtube.com/c/anwar\\\\nAwkward Puppets | http://youtube.com/c/awkwardpuppets\\\\nHannah Stocking | http://youtube.com/c/hannahstocking\\\\nInanna Sarkis | http://youtube.com/c/inanna\\\\nLele Pons | http://youtube.com/c/lelepons\\\\nMaejor | http://youtube.com/c/maejor\\\\nMike Tyson | http://youtube.com/c/miketyson \\\\nRudy Mancuso | http://youtube.com/c/rudymancuso\\\\nShots Studios | http://youtube.com/c/shots\\\\n\\\\n#Rudy\\\\n#RudyMancuso\"'],\n",
       " [u'puqaWrEC7tY',\n",
       "  u'17.14.11',\n",
       "  u'\"Nickelback Lyrics: Real or Fake?\"',\n",
       "  u'\"Good Mythical Morning\"',\n",
       "  u'24',\n",
       "  u'2017-11-13T11:00:04.000Z',\n",
       "  u'\"rhett and link\"|\"gmm\"|\"good mythical morning\"|\"rhett and link good mythical morning\"|\"good mythical morning rhett and link\"|\"mythical morning\"|\"Season 12\"|\"nickelback lyrics\"|\"nickelback lyrics real or fake\"|\"nickelback\"|\"nickelback songs\"|\"nickelback song\"|\"rhett link nickelback\"|\"gmm nickelback\"|\"lyrics (website category)\"|\"nickelback (musical group)\"|\"rock\"|\"music\"|\"lyrics\"|\"chad kroeger\"|\"canada\"|\"music (industry)\"|\"mythical\"|\"gmm challenge\"|\"comedy\"|\"funny\"|\"challenge\"',\n",
       "  u'343168',\n",
       "  u'10172',\n",
       "  u'666',\n",
       "  u'2146',\n",
       "  u'https://i.ytimg.com/vi/puqaWrEC7tY/default.jpg',\n",
       "  u'False',\n",
       "  u'False',\n",
       "  u'False',\n",
       "  u'\"Today we find out if Link is a Nickelback amateur or a secret Nickelback devotee. GMM #1218\\\\nDon\\'t miss an all new Ear Biscuits: https://goo.gl/xeZNQt\\\\nWatch Part 4: https://youtu.be/MhCdiiB8CQg | Watch Part 2: https://youtu.be/7qiOrNao9fg\\\\nWatch today\\'s episode from the start: http://bit.ly/GMM1218\\\\n\\\\nPick up all of the official GMM merch only at https://mythical.store\\\\n\\\\nFollow Rhett & Link: \\\\nInstagram: https://instagram.com/rhettandlink\\\\nFacebook: https://facebook.com/rhettandlink\\\\nTwitter: https://twitter.com/rhettandlink\\\\nTumblr: https://rhettandlink.tumblr.com\\\\nSnapchat: @realrhettlink\\\\nWebsite: https://mythical.co/\\\\n\\\\nCheck Out Our Other Mythical Channels:\\\\nGood Mythical MORE: https://youtube.com/goodmythicalmore\\\\nRhett & Link: https://youtube.com/rhettandlink\\\\nThis Is Mythical: https://youtube.com/thisismythical\\\\nEar Biscuits: https://applepodcasts.com/earbiscuits\\\\n\\\\nWant to send us something? https://mythical.co/contact\\\\nHave you made a Wheel of Mythicality intro video? Submit it here: https://bit.ly/GMMWheelIntro\\\\n\\\\nIntro Animation by Digital Twigs: https://www.digitaltwigs.com\\\\nIntro & Outro Music by Jeff Zeigler & Sarah Schimeneck https://www.jeffzeigler.com\\\\nWheel of Mythicality theme: https://www.royaltyfreemusiclibrary.com/\\\\nAll Supplemental Music fromOpus 1 Music: https://opus1.sourceaudio.com/\\\\nWe use \\u2018The Mouse\\u2019 by Blue Microphones https://www.bluemic.com/mouse/\"'],\n",
       " [u'd380meD0W0M',\n",
       "  u'17.14.11',\n",
       "  u'\"I Dare You: GOING BALD!?\"',\n",
       "  u'\"nigahiga\"',\n",
       "  u'24',\n",
       "  u'2017-11-12T18:01:41.000Z',\n",
       "  u'\"ryan\"|\"higa\"|\"higatv\"|\"nigahiga\"|\"i dare you\"|\"idy\"|\"rhpc\"|\"dares\"|\"no truth\"|\"comments\"|\"comedy\"|\"funny\"|\"stupid\"|\"fail\"',\n",
       "  u'2095731',\n",
       "  u'132235',\n",
       "  u'1989',\n",
       "  u'17518',\n",
       "  u'https://i.ytimg.com/vi/d380meD0W0M/default.jpg',\n",
       "  u'False',\n",
       "  u'False',\n",
       "  u'False',\n",
       "  u'\"I know it\\'s been a while since we did this show',\n",
       "  u\" but we're back with what might be the best episode yet!\\\\nLeave your dares in the comment section! \\\\n\\\\nOrder my book how to write good \\\\nhttp://higatv.com/ryan-higas-how-to-write-good-pre-order-links/\\\\n\\\\nJust Launched New Official Store\\\\nhttps://www.gianthugs.com/collections/ryan\\\\n\\\\nHigaTV Channel\\\\nhttp://www.youtube.com/higatv\\\\n\\\\nTwitter\\\\nhttp://www.twitter.com/therealryanhiga\\\\n\\\\nFacebook\\\\nhttp://www.facebook.com/higatv\\\\n\\\\nWebsite\\\\nhttp://www.higatv.com\\\\n\\\\nInstagram\\\\nhttp://www.instagram.com/notryanhiga\\\\n\\\\nSend us mail or whatever you want here!\\\\nPO Box 232355\\\\nLas Vegas\",\n",
       "  u' NV 89105\"'],\n",
       " [u'gHZ1Qz0KiKM',\n",
       "  u'17.14.11',\n",
       "  u'\"2 Weeks with iPhone X\"',\n",
       "  u'\"iJustine\"',\n",
       "  u'28',\n",
       "  u'2017-11-13T19:07:23.000Z',\n",
       "  u'\"ijustine\"|\"week with iPhone X\"|\"iphone x\"|\"apple\"|\"iphone\"|\"iphone x review\"|\"iphone x unboxing\"',\n",
       "  u'119180',\n",
       "  u'9763',\n",
       "  u'511',\n",
       "  u'1434',\n",
       "  u'https://i.ytimg.com/vi/gHZ1Qz0KiKM/default.jpg',\n",
       "  u'False',\n",
       "  u'False',\n",
       "  u'False',\n",
       "  u'\"Using the iPhone for the past two weeks -- here\\'s my thoughts!\\\\nAll my iPhone X Videos: https://www.youtube.com/watch?v=vqztGUwhRlQ&list=PLoYRB6C09WUDbCndtEDELX-Fpk_pgATvF\\\\n\\u25ba SUBSCRIBE FOR MORE VIDEOS: http://www.youtube.com/subscription_center?add_user=ijustine\\\\n\\u25ba Get my BOOK! http://ijustinebook.com\\\\n\\u25ba Get my iOS 10 STICKERS! http://ijustinestickers.com\\\\n\\\\n\\u25bc SOCIAL\\\\nhttp://instagram.com/ijustine\\\\nhttp://facebook.com/ijustine\\\\nhttp://twitter.com/ijustine\\\\nSnapchat: iJustine\\\\n\\\\n\\u2014\\u2014\\u2014\\u2014\\u2014\\u2014\\u2014\\u2014\\u2014\\u2014\\u2014\\u2014\\\\n\\\\n\\u25bc STUFF I USE TO MAKE VIDEOS\\\\n\\\\nSony rx100 V - http://amzn.to/2jesbxA\\\\nG7X ii - http://amzn.to/2f6n2Bs\\\\nCanon 80D - http://amzn.to/2eRKhQo\\\\nSony A7s ii - http://amzn.to/2ebLR16\\\\nSony a6500 - http://amzn.to/2okeG2a\\\\nGoPro Hero 5 - http://amzn.to/2e1KyhM\\\\nGoPro Hero 5 Session - http://amzn.to/2oksMQT\\\\nEpidemic Sound - https://goo.gl/Pe7GTL \\\\n\\\\nFavorite lenses: \\\\nCanon EF 24-70mm - http://amzn.to/2dT7mFr\\\\nCanon EF-S 10-18mm - http://amzn.to/2dT62SU\\\\nSony 16-35mm (full frame) - http://amzn.to/2ftPaTf\\\\nSony Distagon 35mm (full frame) - http://amzn.to/2oB0XQj\\\\nSony 10-18mm wide angle - http://amzn.to/2e1Myqz\\\\n\\\\nRode Small on camera microphone - http://amzn.to/2fkiVGJ\\\\nRode Larger (battery required) microphone - http://amzn.to/2ftNkl8\\\\nSony XLR adapter Microphone - http://amzn.to/2kCcIDH\\\\nSmall Sony Microphone - http://amzn.to/2oX7Eih\\\\n\\\\nFavorite SD Card - http://amzn.to/2oWRGoD\\\\n\\\\nDJI Mavic Pro - http://amzn.to/2f6nL5E\\\\nPhantom 4 Pro - http://amzn.to/2pbDrN1\\\\nPhantom 4 Pro Plus  - http://amzn.to/2oX63Jz\"'],\n",
       " [u'39idVpFF7NQ',\n",
       "  u'17.14.11',\n",
       "  u'\"Roy Moore & Jeff Sessions Cold Open - SNL\"',\n",
       "  u'\"Saturday Night Live\"',\n",
       "  u'24',\n",
       "  u'2017-11-12T05:37:17.000Z',\n",
       "  u'\"SNL\"|\"Saturday Night Live\"|\"SNL Season 43\"|\"Episode 1730\"|\"Tiffany Haddish\"|\"Roy Moore\"|\"Mikey Day\"|\"Mike Pence\"|\"Beck Bennett\"|\"Jeff Sessions\"|\"Kate McKinnon\"|\"s43\"|\"s43e5\"|\"episode 5\"|\"live\"|\"new york\"|\"comedy\"|\"sketch\"|\"funny\"|\"hilarious\"|\"late night\"|\"host\"|\"music\"|\"guest\"|\"laugh\"|\"impersonation\"|\"actor\"|\"improv\"|\"musician\"|\"comedian\"|\"actress\"|\"If Loving You Is Wrong\"|\"Oprah Winfrey\"|\"OWN\"|\"Girls Trip\"|\"The Carmichael Show\"|\"Keanu\"|\"Taylor Swift\"|\"Reputation\"|\"Look What You Made Me Do\"|\"ready for it?\"|\"cold open\"',\n",
       "  u'2103417',\n",
       "  u'15993',\n",
       "  u'2445',\n",
       "  u'1970',\n",
       "  u'https://i.ytimg.com/vi/39idVpFF7NQ/default.jpg',\n",
       "  u'False',\n",
       "  u'False',\n",
       "  u'False',\n",
       "  u'\"Embattled Alabama Senate candidate Roy Moore (Mikey Day) meets with Vice President Mike Pence (Beck Bennett) and Attorney General Jeff Sessions (Kate McKinnon).\\\\n\\\\n#SNL #SNL43\\\\n\\\\nGet more SNL: http://www.nbc.com/saturday-night-live\\\\nFull Episodes: http://www.nbc.com/saturday-night-liv...\\\\n\\\\nLike SNL: https://www.facebook.com/snl\\\\nFollow SNL: https://twitter.com/nbcsnl\\\\nSNL Tumblr: http://nbcsnl.tumblr.com/\\\\nSNL Instagram: http://instagram.com/nbcsnl \\\\nSNL Pinterest: http://www.pinterest.com/nbcsnl/\"'],\n",
       " [u'nc99ccSXST0',\n",
       "  u'17.14.11',\n",
       "  u'\"5 Ice Cream Gadgets put to the Test\"',\n",
       "  u'\"CrazyRussianHacker\"',\n",
       "  u'28',\n",
       "  u'2017-11-12T21:50:37.000Z',\n",
       "  u'\"5 Ice Cream Gadgets\"|\"Ice Cream\"|\"Cream Sandwich Maker\"|\"gadgets\"|\"gadget review\"|\"review\"|\"unboxing\"|\"kitchen gadgets\"|\"Gadgets put to the Test\"|\"testing\"|\"10 Kitchen Gadgets\"|\"7 Camping Coffee Gadgets\"|\"10 Kitchen Gadgets put to the Test\"',\n",
       "  u'817732',\n",
       "  u'23663',\n",
       "  u'778',\n",
       "  u'3432',\n",
       "  u'https://i.ytimg.com/vi/nc99ccSXST0/default.jpg',\n",
       "  u'False',\n",
       "  u'False',\n",
       "  u'False',\n",
       "  u'\"Ice Cream Pint Combination Lock - http://amzn.to/2ACipdI\\\\nMini Ice Cream Sandwich Maker - http://amzn.to/2ACiX3g\\\\nMotorized Ice Cream Cone - http://amzn.to/2jkrYdg\\\\nBall Ice Cream Maker - http://amzn.to/2AEbtwE\\\\nScoop and Stack - http://amzn.to/2zEMhGo\\\\n\\\\nSubscribe to: \\\\n2nd channel - https://www.youtube.com/user/origami768\\\\ninstagram https://instagram.com/crazyrussianhacker/\\\\nfacebook - https://www.facebook.com/CrazyRussianHacker\\\\n\\\\nDON\\'T TRY THIS AT HOME!\\\\n\\\\nBusiness email: crh.inquire@gmail.com\\\\n\\\\nFAN MAIL:  \\\\nCRAZY RUSSIAN HACKER\\\\nP.O. Box 49\\\\nWaynesville',\n",
       "  u' NC 28786\\\\n\\\\nDISCLAIMER: In this video description contains affiliate links',\n",
       "  u' which means that if you click on one of the product links',\n",
       "  u' I\\u2019ll receive a small commission.\"'],\n",
       " [u'jr9QtXwC9vc',\n",
       "  u'17.14.11',\n",
       "  u'\"The Greatest Showman | Official Trailer 2 [HD] | 20th Century FOX\"',\n",
       "  u'\"20th Century Fox\"',\n",
       "  u'1',\n",
       "  u'2017-11-13T14:00:23.000Z',\n",
       "  u'\"Trailer\"|\"Hugh Jackman\"|\"Michelle Williams\"|\"Zac Efron\"|\"Zendaya\"|\"Rebecca Ferguson\"|\"pasek and paul\"|\"la la land\"|\"moulin rouge\"|\"high school musical\"|\"hugh jackman musical\"|\"zac efron musical\"|\"musical\"|\"the greatest showman\"|\"greatest showman\"|\"Michael Gracey\"|\"P.T. Barnum\"|\"Barnum and Bailey\"|\"Barnum Circus\"|\"Barnum and Bailey Circus\"|\"20th century fox\"|\"greatest showman trailer\"|\"trailer\"|\"official trailer\"|\"the greatest showman trailer\"|\"logan\"|\"Benj Pasek\"|\"Justin Paul\"',\n",
       "  u'826059',\n",
       "  u'3543',\n",
       "  u'119',\n",
       "  u'340',\n",
       "  u'https://i.ytimg.com/vi/jr9QtXwC9vc/default.jpg',\n",
       "  u'False',\n",
       "  u'False',\n",
       "  u'False',\n",
       "  u'\"Inspired by the imagination of P.T. Barnum',\n",
       "  u' The Greatest Showman is an original musical that celebrates the birth of show business & tells of a visionary who rose from nothing to create a spectacle that became a worldwide sensation.\\\\n\\\\nIn Theaters This Christmas\\\\n\\\\nDirected By Michael Gracey\\\\nCast: Hugh Jackman',\n",
       "  u' Michelle Williams',\n",
       "  u' Zac Efron',\n",
       "  u' Zendaya',\n",
       "  u' Rebecca Ferguson\\\\n\\\\nSUBSCRIBE: http://bit.ly/FOXSubscribe\\\\n\\\\n\\\\nVisit the Official Site Here: http://www.foxmovies.com/movies/the-greatest-showman\\\\nLike The Greatest Showman on FACEBOOK: http://fox.co/GreatestShowmanFB\\\\nFollow The Greatest Showman on TWITTER: http://fox.co/GreatestShowmanTW\\\\nFollow The Greatest Showman on INSTAGRAM: http://fox.co/GreatestShowmanIG\\\\n\\\\n#GreatestShowman\\\\n\\\\nAbout 20th Century FOX:\\\\nOfficial YouTube Channel for 20th Century Fox Movies. Home of Avatar',\n",
       "  u' Aliens',\n",
       "  u' X-Men',\n",
       "  u' Die Hard',\n",
       "  u' Deadpool',\n",
       "  u' Ice Age',\n",
       "  u' Alvin and the Chipmunks',\n",
       "  u' Rio',\n",
       "  u' Peanuts',\n",
       "  u' Maze Runner',\n",
       "  u' Planet of the Apes',\n",
       "  u' Wolverine and many more.\\\\n\\\\nConnect with 20th Century FOX Online:\\\\nVisit the 20th Century FOX WEBSITE: http://bit.ly/FOXMovie\\\\nLike 20th Century FOX on FACEBOOK: http://bit.ly/FOXFacebook\\\\nFollow 20th Century FOX on TWITTER: http://bit.ly/TwitterFOX\\\\n\\\\nThe Greatest Showman | Official Trailer 2 [HD] | 20th Century FOX\\\\nhttp://www.youtube.com/user/FoxMovies\"'],\n",
       " [u'TUmyygCMMGA',\n",
       "  u'17.14.11',\n",
       "  u'\"Why the rise of the robots won\\u2019t mean the end of work\"',\n",
       "  u'\"Vox\"',\n",
       "  u'25',\n",
       "  u'2017-11-13T13:45:16.000Z',\n",
       "  u'\"vox.com\"|\"vox\"|\"explain\"|\"shift change\"|\"future of work\"|\"automation\"|\"robots\"|\"jobs\"|\"technological unemployment\"|\"joss fong\"|\"heidi shierholz\"|\"martin ford\"|\"rise of the robots\"|\"humans\"|\"workers\"|\"employment\"|\"economics\"|\"macroeconomics\"|\"silicon valley\"|\"basic income\"',\n",
       "  u'256426',\n",
       "  u'12654',\n",
       "  u'1363',\n",
       "  u'2368',\n",
       "  u'https://i.ytimg.com/vi/TUmyygCMMGA/default.jpg',\n",
       "  u'False',\n",
       "  u'False',\n",
       "  u'False',\n",
       "  u'\"For now',\n",
       "  u' at least',\n",
       "  u' we have better things to worry about.\\\\n\\\\n\\\\nSubscribe to our channel! http://goo.gl/0bsAjO\\\\n\\\\nSources: \\\\nhttps://economics.mit.edu/files/11563\\\\nhttps://www.aeaweb.org/full_issue.php?doi=10.1257/jep.29.3#page=33\\\\nhttp://voxeu.org/article/how-computer-automation-affects-occupations\\\\nhttps://www.opensocietyfoundations.org/sites/default/files/future-work-lit-review-20150428.pdf\\\\nhttps://obamawhitehouse.archives.gov/sites/whitehouse.gov/files/documents/Artificial-Intelligence-Automation-Economy.PDF\\\\nhttps://www.vox.com/2015/7/27/9038829/automation-myth\\\\nhttps://www.amazon.com/dp/B00PWX7RPG/ref=dp-kindle-redirect\\\\nhttps://www.amazon.com/Second-Machine-Age-Prosperity-Technologies-ebook/dp/B00D97HPQI/ref=sr_1_1\\\\nhttps://www.amazon.com/New-Division-Labor-Computers-Creating/dp/0691124027/ref=sr_1_1?\\\\nhttps://www.oxfordmartin.ox.ac.uk/downloads/academic/The_Future_of_Employment.pdf\\\\n\\\\nClips:\\\\nhttps://www.youtube.com/watch?v=VTlV0Y5yAww\\\\nhttps://www.youtube.com/watch?v=_luhn7TLfWU\\\\nhttps://www.youtube.com/watch?v=rVlhMGQgDkY\\\\nhttps://www.youtube.com/watch?v=rCoFKUJ_8Yo\\\\nhttps://www.youtube.com/watch?v=yeyn9zzrC84\\\\nhttps://www.youtube.com/watch?v=7Pq-S557XQU\\\\nhttps://www.youtube.com/watch?v=WSKi8HfcxEk\\\\n\\\\n///\\\\n\\\\nRecent advancements in artificial intelligence and robotics have commentators worrying about the coming obsolescence of the human worker. Some in Silicon Valley are even calling for a basic minimum income provided by the government for everyone',\n",
       "  u' under the assumption that work will become scarce. But many economists are skeptical of these claims',\n",
       "  u' because the notion that the the economy offers a fixed amount of work has been debunked time and time again over the centuries and current economic data show no signs of a productivity boom. Fortunately',\n",
       "  u' we don\\'t need to divine the future of the labor market in order to prepare for it. \\\\n\\\\n///\\\\n\\\\nVox.com is a news website that helps you cut through the noise and understand what\\'s really driving the events in the headlines. Check out http://www.vox.com to get up to speed on everything from Kurdistan to the Kim Kardashian app. \\\\n\\\\nCheck out our full video catalog: http://goo.gl/IZONyE\\\\nFollow Vox on Twitter: http://goo.gl/XFrZ5H\\\\nOr on Facebook: http://goo.gl/U2g06o\"']]"
      ]
     },
     "execution_count": 12,
     "metadata": {},
     "output_type": "execute_result"
    }
   ],
   "source": [
    "noheader.map(lambda x: x.split(\",\")).take(10)"
   ]
  },
  {
   "cell_type": "code",
   "execution_count": 13,
   "metadata": {
    "collapsed": true
   },
   "outputs": [],
   "source": [
    "import csv \n",
    "from StringIO import StringIO\n",
    "from collections import namedtuple"
   ]
  },
  {
   "cell_type": "code",
   "execution_count": 14,
   "metadata": {
    "collapsed": false
   },
   "outputs": [
    {
     "name": "stdout",
     "output_type": "stream",
     "text": [
      "[u'video_id', u'trending_date', u'title', u'channel_title', u'category_id', u'publish_time', u'tags', u'views', u'likes', u'dislikes', u'comment_count', u'thumbnail_link', u'comments_disabled', u'ratings_disabled', u'video_error_or_removed', u'description']\n"
     ]
    }
   ],
   "source": [
    "field = header.replace(\" \",\"_\").replace(\"/\", \"_\").split(\",\")\n",
    "print field"
   ]
  },
  {
   "cell_type": "code",
   "execution_count": 15,
   "metadata": {
    "collapsed": false
   },
   "outputs": [
    {
     "name": "stdout",
     "output_type": "stream",
     "text": [
      "class USA(tuple):\n",
      "    'USA(video_id, trending_date, title, channel_title, category_id, publish_time, tags, views, likes, dislikes, comment_count, thumbnail_link, comments_disabled, ratings_disabled, video_error_or_removed, description)'\n",
      "\n",
      "    __slots__ = ()\n",
      "\n",
      "    _fields = ('video_id', 'trending_date', 'title', 'channel_title', 'category_id', 'publish_time', 'tags', 'views', 'likes', 'dislikes', 'comment_count', 'thumbnail_link', 'comments_disabled', 'ratings_disabled', 'video_error_or_removed', 'description')\n",
      "\n",
      "    def __new__(_cls, video_id, trending_date, title, channel_title, category_id, publish_time, tags, views, likes, dislikes, comment_count, thumbnail_link, comments_disabled, ratings_disabled, video_error_or_removed, description):\n",
      "        'Create new instance of USA(video_id, trending_date, title, channel_title, category_id, publish_time, tags, views, likes, dislikes, comment_count, thumbnail_link, comments_disabled, ratings_disabled, video_error_or_removed, description)'\n",
      "        return _tuple.__new__(_cls, (video_id, trending_date, title, channel_title, category_id, publish_time, tags, views, likes, dislikes, comment_count, thumbnail_link, comments_disabled, ratings_disabled, video_error_or_removed, description))\n",
      "\n",
      "    @classmethod\n",
      "    def _make(cls, iterable, new=tuple.__new__, len=len):\n",
      "        'Make a new USA object from a sequence or iterable'\n",
      "        result = new(cls, iterable)\n",
      "        if len(result) != 16:\n",
      "            raise TypeError('Expected 16 arguments, got %d' % len(result))\n",
      "        return result\n",
      "\n",
      "    def __repr__(self):\n",
      "        'Return a nicely formatted representation string'\n",
      "        return 'USA(video_id=%r, trending_date=%r, title=%r, channel_title=%r, category_id=%r, publish_time=%r, tags=%r, views=%r, likes=%r, dislikes=%r, comment_count=%r, thumbnail_link=%r, comments_disabled=%r, ratings_disabled=%r, video_error_or_removed=%r, description=%r)' % self\n",
      "\n",
      "    def _asdict(self):\n",
      "        'Return a new OrderedDict which maps field names to their values'\n",
      "        return OrderedDict(zip(self._fields, self))\n",
      "\n",
      "    def _replace(_self, **kwds):\n",
      "        'Return a new USA object replacing specified fields with new values'\n",
      "        result = _self._make(map(kwds.pop, ('video_id', 'trending_date', 'title', 'channel_title', 'category_id', 'publish_time', 'tags', 'views', 'likes', 'dislikes', 'comment_count', 'thumbnail_link', 'comments_disabled', 'ratings_disabled', 'video_error_or_removed', 'description'), _self))\n",
      "        if kwds:\n",
      "            raise ValueError('Got unexpected field names: %r' % kwds.keys())\n",
      "        return result\n",
      "\n",
      "    def __getnewargs__(self):\n",
      "        'Return self as a plain tuple.  Used by copy and pickle.'\n",
      "        return tuple(self)\n",
      "\n",
      "    __dict__ = _property(_asdict)\n",
      "\n",
      "    def __getstate__(self):\n",
      "        'Exclude the OrderedDict from pickling'\n",
      "        pass\n",
      "\n",
      "    video_id = _property(_itemgetter(0), doc='Alias for field number 0')\n",
      "\n",
      "    trending_date = _property(_itemgetter(1), doc='Alias for field number 1')\n",
      "\n",
      "    title = _property(_itemgetter(2), doc='Alias for field number 2')\n",
      "\n",
      "    channel_title = _property(_itemgetter(3), doc='Alias for field number 3')\n",
      "\n",
      "    category_id = _property(_itemgetter(4), doc='Alias for field number 4')\n",
      "\n",
      "    publish_time = _property(_itemgetter(5), doc='Alias for field number 5')\n",
      "\n",
      "    tags = _property(_itemgetter(6), doc='Alias for field number 6')\n",
      "\n",
      "    views = _property(_itemgetter(7), doc='Alias for field number 7')\n",
      "\n",
      "    likes = _property(_itemgetter(8), doc='Alias for field number 8')\n",
      "\n",
      "    dislikes = _property(_itemgetter(9), doc='Alias for field number 9')\n",
      "\n",
      "    comment_count = _property(_itemgetter(10), doc='Alias for field number 10')\n",
      "\n",
      "    thumbnail_link = _property(_itemgetter(11), doc='Alias for field number 11')\n",
      "\n",
      "    comments_disabled = _property(_itemgetter(12), doc='Alias for field number 12')\n",
      "\n",
      "    ratings_disabled = _property(_itemgetter(13), doc='Alias for field number 13')\n",
      "\n",
      "    video_error_or_removed = _property(_itemgetter(14), doc='Alias for field number 14')\n",
      "\n",
      "    description = _property(_itemgetter(15), doc='Alias for field number 15')\n",
      "\n",
      "\n"
     ]
    }
   ],
   "source": [
    "USA = namedtuple('USA', field, verbose=True)"
   ]
  },
  {
   "cell_type": "code",
   "execution_count": 16,
   "metadata": {
    "collapsed": true
   },
   "outputs": [],
   "source": [
    "def parse(row):\n",
    "    reader = csv.reader(StringIO(row))\n",
    "    row=reader.next()\n",
    "    return USA(*row)"
   ]
  },
  {
   "cell_type": "code",
   "execution_count": 17,
   "metadata": {
    "collapsed": true
   },
   "outputs": [],
   "source": [
    "usa = noheader.map(parse)"
   ]
  },
  {
   "cell_type": "code",
   "execution_count": 18,
   "metadata": {
    "collapsed": false
   },
   "outputs": [
    {
     "data": {
      "text/plain": [
       "USA(video_id='2kyS6SvSYSE', trending_date='17.14.11', title='WE WANT TO TALK ABOUT OUR MARRIAGE', channel_title='CaseyNeistat', category_id='22', publish_time='2017-11-13T17:13:01.000Z', tags='SHANtell martin', views='748374', likes='57527', dislikes='2966', comment_count='15954', thumbnail_link='https://i.ytimg.com/vi/2kyS6SvSYSE/default.jpg', comments_disabled='False', ratings_disabled='False', video_error_or_removed='False', description=\"SHANTELL'S CHANNEL - https://www.youtube.com/shantellmartin\\\\nCANDICE - https://www.lovebilly.com\\\\n\\\\nfilmed this video in 4k on this -- http://amzn.to/2sTDnRZ\\\\nwith this lens -- http://amzn.to/2rUJOmD\\\\nbig drone - http://tinyurl.com/h4ft3oy\\\\nOTHER GEAR ---  http://amzn.to/2o3GLX5\\\\nSony CAMERA http://amzn.to/2nOBmnv\\\\nOLD CAMERA; http://amzn.to/2o2cQBT\\\\nMAIN LENS; http://amzn.to/2od5gBJ\\\\nBIG SONY CAMERA; http://amzn.to/2nrdJRO\\\\nBIG Canon CAMERA; http://tinyurl.com/jn4q4vz\\\\nBENDY TRIPOD THING; http://tinyurl.com/gw3ylz2\\\\nYOU NEED THIS FOR THE BENDY TRIPOD; http://tinyurl.com/j8mzzua\\\\nWIDE LENS; http://tinyurl.com/jkfcm8t\\\\nMORE EXPENSIVE WIDE LENS; http://tinyurl.com/zrdgtou\\\\nSMALL CAMERA; http://tinyurl.com/hrrzhor\\\\nMICROPHONE; http://tinyurl.com/zefm4jy\\\\nOTHER MICROPHONE; http://tinyurl.com/jxgpj86\\\\nOLD DRONE (cheaper but still great);http://tinyurl.com/zcfmnmd\\\\n\\\\nfollow me; on http://instagram.com/caseyneistat\\\\non https://www.facebook.com/cneistat\\\\non https://twitter.com/CaseyNeistat\\\\n\\\\namazing intro song by https://soundcloud.com/discoteeth\\\\n\\\\nad disclosure.  THIS IS NOT AN AD.  not selling or promoting anything.  but samsung did produce the Shantell Video as a 'GALAXY PROJECT' which is an initiative that enables creators like Shantell and me to make projects we might otherwise not have the opportunity to make.  hope that's clear.  if not ask in the comments and i'll answer any specifics.\")"
      ]
     },
     "execution_count": 18,
     "metadata": {},
     "output_type": "execute_result"
    }
   ],
   "source": [
    "usa.first()"
   ]
  },
  {
   "cell_type": "code",
   "execution_count": 19,
   "metadata": {
    "collapsed": false
   },
   "outputs": [
    {
     "data": {
      "text/plain": [
       "'22'"
      ]
     },
     "execution_count": 19,
     "metadata": {},
     "output_type": "execute_result"
    }
   ],
   "source": [
    "usa.first().category_id"
   ]
  },
  {
   "cell_type": "code",
   "execution_count": null,
   "metadata": {
    "collapsed": false,
    "scrolled": false
   },
   "outputs": [
    {
     "ename": "Py4JJavaError",
     "evalue": "An error occurred while calling z:org.apache.spark.api.python.PythonRDD.collectAndServe.\n: org.apache.spark.SparkException: Job aborted due to stage failure: Task 0 in stage 7.0 failed 1 times, most recent failure: Lost task 0.0 in stage 7.0 (TID 7, localhost, executor driver): org.apache.spark.api.python.PythonException: Traceback (most recent call last):\n  File \"/usr/local/spark/python/lib/pyspark.zip/pyspark/worker.py\", line 230, in main\n    process()\n  File \"/usr/local/spark/python/lib/pyspark.zip/pyspark/worker.py\", line 225, in process\n    serializer.dump_stream(func(split_index, iterator), outfile)\n  File \"/usr/local/spark/python/lib/pyspark.zip/pyspark/serializers.py\", line 372, in dump_stream\n    vs = list(itertools.islice(iterator, batch))\n  File \"/usr/local/spark/python/pyspark/rdd.py\", line 857, in func\n    initial = next(iterator)\n  File \"/usr/local/spark/python/pyspark/rdd.py\", line 1271, in countPartition\n    for obj in iterator:\n  File \"/usr/local/spark/python/lib/pyspark.zip/pyspark/util.py\", line 55, in wrapper\n    return f(*args, **kwargs)\n  File \"<ipython-input-16-65078f2a439b>\", line 3, in parse\nUnicodeEncodeError: 'ascii' codec can't encode character u'\\u25b6' in position 552: ordinal not in range(128)\n\n\tat org.apache.spark.api.python.BasePythonRunner$ReaderIterator.handlePythonException(PythonRunner.scala:298)\n\tat org.apache.spark.api.python.PythonRunner$$anon$1.read(PythonRunner.scala:438)\n\tat org.apache.spark.api.python.PythonRunner$$anon$1.read(PythonRunner.scala:421)\n\tat org.apache.spark.api.python.BasePythonRunner$ReaderIterator.hasNext(PythonRunner.scala:252)\n\tat org.apache.spark.InterruptibleIterator.hasNext(InterruptibleIterator.scala:37)\n\tat scala.collection.Iterator$class.foreach(Iterator.scala:893)\n\tat org.apache.spark.InterruptibleIterator.foreach(InterruptibleIterator.scala:28)\n\tat scala.collection.generic.Growable$class.$plus$plus$eq(Growable.scala:59)\n\tat scala.collection.mutable.ArrayBuffer.$plus$plus$eq(ArrayBuffer.scala:104)\n\tat scala.collection.mutable.ArrayBuffer.$plus$plus$eq(ArrayBuffer.scala:48)\n\tat scala.collection.TraversableOnce$class.to(TraversableOnce.scala:310)\n\tat org.apache.spark.InterruptibleIterator.to(InterruptibleIterator.scala:28)\n\tat scala.collection.TraversableOnce$class.toBuffer(TraversableOnce.scala:302)\n\tat org.apache.spark.InterruptibleIterator.toBuffer(InterruptibleIterator.scala:28)\n\tat scala.collection.TraversableOnce$class.toArray(TraversableOnce.scala:289)\n\tat org.apache.spark.InterruptibleIterator.toArray(InterruptibleIterator.scala:28)\n\tat org.apache.spark.rdd.RDD$$anonfun$collect$1$$anonfun$12.apply(RDD.scala:939)\n\tat org.apache.spark.rdd.RDD$$anonfun$collect$1$$anonfun$12.apply(RDD.scala:939)\n\tat org.apache.spark.SparkContext$$anonfun$runJob$5.apply(SparkContext.scala:2074)\n\tat org.apache.spark.SparkContext$$anonfun$runJob$5.apply(SparkContext.scala:2074)\n\tat org.apache.spark.scheduler.ResultTask.runTask(ResultTask.scala:87)\n\tat org.apache.spark.scheduler.Task.run(Task.scala:109)\n\tat org.apache.spark.executor.Executor$TaskRunner.run(Executor.scala:345)\n\tat java.util.concurrent.ThreadPoolExecutor.runWorker(ThreadPoolExecutor.java:1149)\n\tat java.util.concurrent.ThreadPoolExecutor$Worker.run(ThreadPoolExecutor.java:624)\n\tat java.lang.Thread.run(Thread.java:748)\n\nDriver stacktrace:\n\tat org.apache.spark.scheduler.DAGScheduler.org$apache$spark$scheduler$DAGScheduler$$failJobAndIndependentStages(DAGScheduler.scala:1602)\n\tat org.apache.spark.scheduler.DAGScheduler$$anonfun$abortStage$1.apply(DAGScheduler.scala:1590)\n\tat org.apache.spark.scheduler.DAGScheduler$$anonfun$abortStage$1.apply(DAGScheduler.scala:1589)\n\tat scala.collection.mutable.ResizableArray$class.foreach(ResizableArray.scala:59)\n\tat scala.collection.mutable.ArrayBuffer.foreach(ArrayBuffer.scala:48)\n\tat org.apache.spark.scheduler.DAGScheduler.abortStage(DAGScheduler.scala:1589)\n\tat org.apache.spark.scheduler.DAGScheduler$$anonfun$handleTaskSetFailed$1.apply(DAGScheduler.scala:831)\n\tat org.apache.spark.scheduler.DAGScheduler$$anonfun$handleTaskSetFailed$1.apply(DAGScheduler.scala:831)\n\tat scala.Option.foreach(Option.scala:257)\n\tat org.apache.spark.scheduler.DAGScheduler.handleTaskSetFailed(DAGScheduler.scala:831)\n\tat org.apache.spark.scheduler.DAGSchedulerEventProcessLoop.doOnReceive(DAGScheduler.scala:1823)\n\tat org.apache.spark.scheduler.DAGSchedulerEventProcessLoop.onReceive(DAGScheduler.scala:1772)\n\tat org.apache.spark.scheduler.DAGSchedulerEventProcessLoop.onReceive(DAGScheduler.scala:1761)\n\tat org.apache.spark.util.EventLoop$$anon$1.run(EventLoop.scala:48)\n\tat org.apache.spark.scheduler.DAGScheduler.runJob(DAGScheduler.scala:642)\n\tat org.apache.spark.SparkContext.runJob(SparkContext.scala:2034)\n\tat org.apache.spark.SparkContext.runJob(SparkContext.scala:2055)\n\tat org.apache.spark.SparkContext.runJob(SparkContext.scala:2074)\n\tat org.apache.spark.SparkContext.runJob(SparkContext.scala:2099)\n\tat org.apache.spark.rdd.RDD$$anonfun$collect$1.apply(RDD.scala:939)\n\tat org.apache.spark.rdd.RDDOperationScope$.withScope(RDDOperationScope.scala:151)\n\tat org.apache.spark.rdd.RDDOperationScope$.withScope(RDDOperationScope.scala:112)\n\tat org.apache.spark.rdd.RDD.withScope(RDD.scala:363)\n\tat org.apache.spark.rdd.RDD.collect(RDD.scala:938)\n\tat org.apache.spark.api.python.PythonRDD$.collectAndServe(PythonRDD.scala:162)\n\tat org.apache.spark.api.python.PythonRDD.collectAndServe(PythonRDD.scala)\n\tat sun.reflect.NativeMethodAccessorImpl.invoke0(Native Method)\n\tat sun.reflect.NativeMethodAccessorImpl.invoke(NativeMethodAccessorImpl.java:62)\n\tat sun.reflect.DelegatingMethodAccessorImpl.invoke(DelegatingMethodAccessorImpl.java:43)\n\tat java.lang.reflect.Method.invoke(Method.java:498)\n\tat py4j.reflection.MethodInvoker.invoke(MethodInvoker.java:244)\n\tat py4j.reflection.ReflectionEngine.invoke(ReflectionEngine.java:357)\n\tat py4j.Gateway.invoke(Gateway.java:282)\n\tat py4j.commands.AbstractCommand.invokeMethod(AbstractCommand.java:132)\n\tat py4j.commands.CallCommand.execute(CallCommand.java:79)\n\tat py4j.GatewayConnection.run(GatewayConnection.java:238)\n\tat java.lang.Thread.run(Thread.java:748)\nCaused by: org.apache.spark.api.python.PythonException: Traceback (most recent call last):\n  File \"/usr/local/spark/python/lib/pyspark.zip/pyspark/worker.py\", line 230, in main\n    process()\n  File \"/usr/local/spark/python/lib/pyspark.zip/pyspark/worker.py\", line 225, in process\n    serializer.dump_stream(func(split_index, iterator), outfile)\n  File \"/usr/local/spark/python/lib/pyspark.zip/pyspark/serializers.py\", line 372, in dump_stream\n    vs = list(itertools.islice(iterator, batch))\n  File \"/usr/local/spark/python/pyspark/rdd.py\", line 857, in func\n    initial = next(iterator)\n  File \"/usr/local/spark/python/pyspark/rdd.py\", line 1271, in countPartition\n    for obj in iterator:\n  File \"/usr/local/spark/python/lib/pyspark.zip/pyspark/util.py\", line 55, in wrapper\n    return f(*args, **kwargs)\n  File \"<ipython-input-16-65078f2a439b>\", line 3, in parse\nUnicodeEncodeError: 'ascii' codec can't encode character u'\\u25b6' in position 552: ordinal not in range(128)\n\n\tat org.apache.spark.api.python.BasePythonRunner$ReaderIterator.handlePythonException(PythonRunner.scala:298)\n\tat org.apache.spark.api.python.PythonRunner$$anon$1.read(PythonRunner.scala:438)\n\tat org.apache.spark.api.python.PythonRunner$$anon$1.read(PythonRunner.scala:421)\n\tat org.apache.spark.api.python.BasePythonRunner$ReaderIterator.hasNext(PythonRunner.scala:252)\n\tat org.apache.spark.InterruptibleIterator.hasNext(InterruptibleIterator.scala:37)\n\tat scala.collection.Iterator$class.foreach(Iterator.scala:893)\n\tat org.apache.spark.InterruptibleIterator.foreach(InterruptibleIterator.scala:28)\n\tat scala.collection.generic.Growable$class.$plus$plus$eq(Growable.scala:59)\n\tat scala.collection.mutable.ArrayBuffer.$plus$plus$eq(ArrayBuffer.scala:104)\n\tat scala.collection.mutable.ArrayBuffer.$plus$plus$eq(ArrayBuffer.scala:48)\n\tat scala.collection.TraversableOnce$class.to(TraversableOnce.scala:310)\n\tat org.apache.spark.InterruptibleIterator.to(InterruptibleIterator.scala:28)\n\tat scala.collection.TraversableOnce$class.toBuffer(TraversableOnce.scala:302)\n\tat org.apache.spark.InterruptibleIterator.toBuffer(InterruptibleIterator.scala:28)\n\tat scala.collection.TraversableOnce$class.toArray(TraversableOnce.scala:289)\n\tat org.apache.spark.InterruptibleIterator.toArray(InterruptibleIterator.scala:28)\n\tat org.apache.spark.rdd.RDD$$anonfun$collect$1$$anonfun$12.apply(RDD.scala:939)\n\tat org.apache.spark.rdd.RDD$$anonfun$collect$1$$anonfun$12.apply(RDD.scala:939)\n\tat org.apache.spark.SparkContext$$anonfun$runJob$5.apply(SparkContext.scala:2074)\n\tat org.apache.spark.SparkContext$$anonfun$runJob$5.apply(SparkContext.scala:2074)\n\tat org.apache.spark.scheduler.ResultTask.runTask(ResultTask.scala:87)\n\tat org.apache.spark.scheduler.Task.run(Task.scala:109)\n\tat org.apache.spark.executor.Executor$TaskRunner.run(Executor.scala:345)\n\tat java.util.concurrent.ThreadPoolExecutor.runWorker(ThreadPoolExecutor.java:1149)\n\tat java.util.concurrent.ThreadPoolExecutor$Worker.run(ThreadPoolExecutor.java:624)\n\t... 1 more\n",
     "output_type": "error",
     "traceback": [
      "\u001b[0;31m---------------------------------------------------------------------------\u001b[0m",
      "\u001b[0;31mPy4JJavaError\u001b[0m                             Traceback (most recent call last)",
      "\u001b[0;32m<ipython-input-20-6b4cd904b703>\u001b[0m in \u001b[0;36m<module>\u001b[0;34m()\u001b[0m\n\u001b[0;32m----> 1\u001b[0;31m \u001b[0musa\u001b[0m\u001b[0;34m.\u001b[0m\u001b[0mmap\u001b[0m\u001b[0;34m(\u001b[0m\u001b[0;32mlambda\u001b[0m \u001b[0mx\u001b[0m\u001b[0;34m:\u001b[0m\u001b[0mx\u001b[0m\u001b[0;34m.\u001b[0m\u001b[0mcategory_id\u001b[0m\u001b[0;34m)\u001b[0m\u001b[0;34m.\u001b[0m\u001b[0mcountByValue\u001b[0m\u001b[0;34m(\u001b[0m\u001b[0;34m)\u001b[0m\u001b[0;34m\u001b[0m\u001b[0m\n\u001b[0m",
      "\u001b[0;32m/usr/local/spark/python/pyspark/rdd.py\u001b[0m in \u001b[0;36mcountByValue\u001b[0;34m(self)\u001b[0m\n\u001b[1;32m   1277\u001b[0m                 \u001b[0mm1\u001b[0m\u001b[0;34m[\u001b[0m\u001b[0mk\u001b[0m\u001b[0;34m]\u001b[0m \u001b[0;34m+=\u001b[0m \u001b[0mv\u001b[0m\u001b[0;34m\u001b[0m\u001b[0m\n\u001b[1;32m   1278\u001b[0m             \u001b[0;32mreturn\u001b[0m \u001b[0mm1\u001b[0m\u001b[0;34m\u001b[0m\u001b[0m\n\u001b[0;32m-> 1279\u001b[0;31m         \u001b[0;32mreturn\u001b[0m \u001b[0mself\u001b[0m\u001b[0;34m.\u001b[0m\u001b[0mmapPartitions\u001b[0m\u001b[0;34m(\u001b[0m\u001b[0mcountPartition\u001b[0m\u001b[0;34m)\u001b[0m\u001b[0;34m.\u001b[0m\u001b[0mreduce\u001b[0m\u001b[0;34m(\u001b[0m\u001b[0mmergeMaps\u001b[0m\u001b[0;34m)\u001b[0m\u001b[0;34m\u001b[0m\u001b[0m\n\u001b[0m\u001b[1;32m   1280\u001b[0m \u001b[0;34m\u001b[0m\u001b[0m\n\u001b[1;32m   1281\u001b[0m     \u001b[0;32mdef\u001b[0m \u001b[0mtop\u001b[0m\u001b[0;34m(\u001b[0m\u001b[0mself\u001b[0m\u001b[0;34m,\u001b[0m \u001b[0mnum\u001b[0m\u001b[0;34m,\u001b[0m \u001b[0mkey\u001b[0m\u001b[0;34m=\u001b[0m\u001b[0mNone\u001b[0m\u001b[0;34m)\u001b[0m\u001b[0;34m:\u001b[0m\u001b[0;34m\u001b[0m\u001b[0m\n",
      "\u001b[0;32m/usr/local/spark/python/pyspark/rdd.py\u001b[0m in \u001b[0;36mreduce\u001b[0;34m(self, f)\u001b[0m\n\u001b[1;32m    860\u001b[0m             \u001b[0;32myield\u001b[0m \u001b[0mreduce\u001b[0m\u001b[0;34m(\u001b[0m\u001b[0mf\u001b[0m\u001b[0;34m,\u001b[0m \u001b[0miterator\u001b[0m\u001b[0;34m,\u001b[0m \u001b[0minitial\u001b[0m\u001b[0;34m)\u001b[0m\u001b[0;34m\u001b[0m\u001b[0m\n\u001b[1;32m    861\u001b[0m \u001b[0;34m\u001b[0m\u001b[0m\n\u001b[0;32m--> 862\u001b[0;31m         \u001b[0mvals\u001b[0m \u001b[0;34m=\u001b[0m \u001b[0mself\u001b[0m\u001b[0;34m.\u001b[0m\u001b[0mmapPartitions\u001b[0m\u001b[0;34m(\u001b[0m\u001b[0mfunc\u001b[0m\u001b[0;34m)\u001b[0m\u001b[0;34m.\u001b[0m\u001b[0mcollect\u001b[0m\u001b[0;34m(\u001b[0m\u001b[0;34m)\u001b[0m\u001b[0;34m\u001b[0m\u001b[0m\n\u001b[0m\u001b[1;32m    863\u001b[0m         \u001b[0;32mif\u001b[0m \u001b[0mvals\u001b[0m\u001b[0;34m:\u001b[0m\u001b[0;34m\u001b[0m\u001b[0m\n\u001b[1;32m    864\u001b[0m             \u001b[0;32mreturn\u001b[0m \u001b[0mreduce\u001b[0m\u001b[0;34m(\u001b[0m\u001b[0mf\u001b[0m\u001b[0;34m,\u001b[0m \u001b[0mvals\u001b[0m\u001b[0;34m)\u001b[0m\u001b[0;34m\u001b[0m\u001b[0m\n",
      "\u001b[0;32m/usr/local/spark/python/pyspark/rdd.py\u001b[0m in \u001b[0;36mcollect\u001b[0;34m(self)\u001b[0m\n\u001b[1;32m    832\u001b[0m         \"\"\"\n\u001b[1;32m    833\u001b[0m         \u001b[0;32mwith\u001b[0m \u001b[0mSCCallSiteSync\u001b[0m\u001b[0;34m(\u001b[0m\u001b[0mself\u001b[0m\u001b[0;34m.\u001b[0m\u001b[0mcontext\u001b[0m\u001b[0;34m)\u001b[0m \u001b[0;32mas\u001b[0m \u001b[0mcss\u001b[0m\u001b[0;34m:\u001b[0m\u001b[0;34m\u001b[0m\u001b[0m\n\u001b[0;32m--> 834\u001b[0;31m             \u001b[0msock_info\u001b[0m \u001b[0;34m=\u001b[0m \u001b[0mself\u001b[0m\u001b[0;34m.\u001b[0m\u001b[0mctx\u001b[0m\u001b[0;34m.\u001b[0m\u001b[0m_jvm\u001b[0m\u001b[0;34m.\u001b[0m\u001b[0mPythonRDD\u001b[0m\u001b[0;34m.\u001b[0m\u001b[0mcollectAndServe\u001b[0m\u001b[0;34m(\u001b[0m\u001b[0mself\u001b[0m\u001b[0;34m.\u001b[0m\u001b[0m_jrdd\u001b[0m\u001b[0;34m.\u001b[0m\u001b[0mrdd\u001b[0m\u001b[0;34m(\u001b[0m\u001b[0;34m)\u001b[0m\u001b[0;34m)\u001b[0m\u001b[0;34m\u001b[0m\u001b[0m\n\u001b[0m\u001b[1;32m    835\u001b[0m         \u001b[0;32mreturn\u001b[0m \u001b[0mlist\u001b[0m\u001b[0;34m(\u001b[0m\u001b[0m_load_from_socket\u001b[0m\u001b[0;34m(\u001b[0m\u001b[0msock_info\u001b[0m\u001b[0;34m,\u001b[0m \u001b[0mself\u001b[0m\u001b[0;34m.\u001b[0m\u001b[0m_jrdd_deserializer\u001b[0m\u001b[0;34m)\u001b[0m\u001b[0;34m)\u001b[0m\u001b[0;34m\u001b[0m\u001b[0m\n\u001b[1;32m    836\u001b[0m \u001b[0;34m\u001b[0m\u001b[0m\n",
      "\u001b[0;32m/usr/local/spark/python/lib/py4j-0.10.7-src.zip/py4j/java_gateway.py\u001b[0m in \u001b[0;36m__call__\u001b[0;34m(self, *args)\u001b[0m\n\u001b[1;32m   1255\u001b[0m         \u001b[0manswer\u001b[0m \u001b[0;34m=\u001b[0m \u001b[0mself\u001b[0m\u001b[0;34m.\u001b[0m\u001b[0mgateway_client\u001b[0m\u001b[0;34m.\u001b[0m\u001b[0msend_command\u001b[0m\u001b[0;34m(\u001b[0m\u001b[0mcommand\u001b[0m\u001b[0;34m)\u001b[0m\u001b[0;34m\u001b[0m\u001b[0m\n\u001b[1;32m   1256\u001b[0m         return_value = get_return_value(\n\u001b[0;32m-> 1257\u001b[0;31m             answer, self.gateway_client, self.target_id, self.name)\n\u001b[0m\u001b[1;32m   1258\u001b[0m \u001b[0;34m\u001b[0m\u001b[0m\n\u001b[1;32m   1259\u001b[0m         \u001b[0;32mfor\u001b[0m \u001b[0mtemp_arg\u001b[0m \u001b[0;32min\u001b[0m \u001b[0mtemp_args\u001b[0m\u001b[0;34m:\u001b[0m\u001b[0;34m\u001b[0m\u001b[0m\n",
      "\u001b[0;32m/usr/local/spark/python/pyspark/sql/utils.py\u001b[0m in \u001b[0;36mdeco\u001b[0;34m(*a, **kw)\u001b[0m\n\u001b[1;32m     61\u001b[0m     \u001b[0;32mdef\u001b[0m \u001b[0mdeco\u001b[0m\u001b[0;34m(\u001b[0m\u001b[0;34m*\u001b[0m\u001b[0ma\u001b[0m\u001b[0;34m,\u001b[0m \u001b[0;34m**\u001b[0m\u001b[0mkw\u001b[0m\u001b[0;34m)\u001b[0m\u001b[0;34m:\u001b[0m\u001b[0;34m\u001b[0m\u001b[0m\n\u001b[1;32m     62\u001b[0m         \u001b[0;32mtry\u001b[0m\u001b[0;34m:\u001b[0m\u001b[0;34m\u001b[0m\u001b[0m\n\u001b[0;32m---> 63\u001b[0;31m             \u001b[0;32mreturn\u001b[0m \u001b[0mf\u001b[0m\u001b[0;34m(\u001b[0m\u001b[0;34m*\u001b[0m\u001b[0ma\u001b[0m\u001b[0;34m,\u001b[0m \u001b[0;34m**\u001b[0m\u001b[0mkw\u001b[0m\u001b[0;34m)\u001b[0m\u001b[0;34m\u001b[0m\u001b[0m\n\u001b[0m\u001b[1;32m     64\u001b[0m         \u001b[0;32mexcept\u001b[0m \u001b[0mpy4j\u001b[0m\u001b[0;34m.\u001b[0m\u001b[0mprotocol\u001b[0m\u001b[0;34m.\u001b[0m\u001b[0mPy4JJavaError\u001b[0m \u001b[0;32mas\u001b[0m \u001b[0me\u001b[0m\u001b[0;34m:\u001b[0m\u001b[0;34m\u001b[0m\u001b[0m\n\u001b[1;32m     65\u001b[0m             \u001b[0ms\u001b[0m \u001b[0;34m=\u001b[0m \u001b[0me\u001b[0m\u001b[0;34m.\u001b[0m\u001b[0mjava_exception\u001b[0m\u001b[0;34m.\u001b[0m\u001b[0mtoString\u001b[0m\u001b[0;34m(\u001b[0m\u001b[0;34m)\u001b[0m\u001b[0;34m\u001b[0m\u001b[0m\n",
      "\u001b[0;32m/usr/local/spark/python/lib/py4j-0.10.7-src.zip/py4j/protocol.py\u001b[0m in \u001b[0;36mget_return_value\u001b[0;34m(answer, gateway_client, target_id, name)\u001b[0m\n\u001b[1;32m    326\u001b[0m                 raise Py4JJavaError(\n\u001b[1;32m    327\u001b[0m                     \u001b[0;34m\"An error occurred while calling {0}{1}{2}.\\n\"\u001b[0m\u001b[0;34m.\u001b[0m\u001b[0;34m\u001b[0m\u001b[0m\n\u001b[0;32m--> 328\u001b[0;31m                     format(target_id, \".\", name), value)\n\u001b[0m\u001b[1;32m    329\u001b[0m             \u001b[0;32melse\u001b[0m\u001b[0;34m:\u001b[0m\u001b[0;34m\u001b[0m\u001b[0m\n\u001b[1;32m    330\u001b[0m                 raise Py4JError(\n",
      "\u001b[0;31mPy4JJavaError\u001b[0m: An error occurred while calling z:org.apache.spark.api.python.PythonRDD.collectAndServe.\n: org.apache.spark.SparkException: Job aborted due to stage failure: Task 0 in stage 7.0 failed 1 times, most recent failure: Lost task 0.0 in stage 7.0 (TID 7, localhost, executor driver): org.apache.spark.api.python.PythonException: Traceback (most recent call last):\n  File \"/usr/local/spark/python/lib/pyspark.zip/pyspark/worker.py\", line 230, in main\n    process()\n  File \"/usr/local/spark/python/lib/pyspark.zip/pyspark/worker.py\", line 225, in process\n    serializer.dump_stream(func(split_index, iterator), outfile)\n  File \"/usr/local/spark/python/lib/pyspark.zip/pyspark/serializers.py\", line 372, in dump_stream\n    vs = list(itertools.islice(iterator, batch))\n  File \"/usr/local/spark/python/pyspark/rdd.py\", line 857, in func\n    initial = next(iterator)\n  File \"/usr/local/spark/python/pyspark/rdd.py\", line 1271, in countPartition\n    for obj in iterator:\n  File \"/usr/local/spark/python/lib/pyspark.zip/pyspark/util.py\", line 55, in wrapper\n    return f(*args, **kwargs)\n  File \"<ipython-input-16-65078f2a439b>\", line 3, in parse\nUnicodeEncodeError: 'ascii' codec can't encode character u'\\u25b6' in position 552: ordinal not in range(128)\n\n\tat org.apache.spark.api.python.BasePythonRunner$ReaderIterator.handlePythonException(PythonRunner.scala:298)\n\tat org.apache.spark.api.python.PythonRunner$$anon$1.read(PythonRunner.scala:438)\n\tat org.apache.spark.api.python.PythonRunner$$anon$1.read(PythonRunner.scala:421)\n\tat org.apache.spark.api.python.BasePythonRunner$ReaderIterator.hasNext(PythonRunner.scala:252)\n\tat org.apache.spark.InterruptibleIterator.hasNext(InterruptibleIterator.scala:37)\n\tat scala.collection.Iterator$class.foreach(Iterator.scala:893)\n\tat org.apache.spark.InterruptibleIterator.foreach(InterruptibleIterator.scala:28)\n\tat scala.collection.generic.Growable$class.$plus$plus$eq(Growable.scala:59)\n\tat scala.collection.mutable.ArrayBuffer.$plus$plus$eq(ArrayBuffer.scala:104)\n\tat scala.collection.mutable.ArrayBuffer.$plus$plus$eq(ArrayBuffer.scala:48)\n\tat scala.collection.TraversableOnce$class.to(TraversableOnce.scala:310)\n\tat org.apache.spark.InterruptibleIterator.to(InterruptibleIterator.scala:28)\n\tat scala.collection.TraversableOnce$class.toBuffer(TraversableOnce.scala:302)\n\tat org.apache.spark.InterruptibleIterator.toBuffer(InterruptibleIterator.scala:28)\n\tat scala.collection.TraversableOnce$class.toArray(TraversableOnce.scala:289)\n\tat org.apache.spark.InterruptibleIterator.toArray(InterruptibleIterator.scala:28)\n\tat org.apache.spark.rdd.RDD$$anonfun$collect$1$$anonfun$12.apply(RDD.scala:939)\n\tat org.apache.spark.rdd.RDD$$anonfun$collect$1$$anonfun$12.apply(RDD.scala:939)\n\tat org.apache.spark.SparkContext$$anonfun$runJob$5.apply(SparkContext.scala:2074)\n\tat org.apache.spark.SparkContext$$anonfun$runJob$5.apply(SparkContext.scala:2074)\n\tat org.apache.spark.scheduler.ResultTask.runTask(ResultTask.scala:87)\n\tat org.apache.spark.scheduler.Task.run(Task.scala:109)\n\tat org.apache.spark.executor.Executor$TaskRunner.run(Executor.scala:345)\n\tat java.util.concurrent.ThreadPoolExecutor.runWorker(ThreadPoolExecutor.java:1149)\n\tat java.util.concurrent.ThreadPoolExecutor$Worker.run(ThreadPoolExecutor.java:624)\n\tat java.lang.Thread.run(Thread.java:748)\n\nDriver stacktrace:\n\tat org.apache.spark.scheduler.DAGScheduler.org$apache$spark$scheduler$DAGScheduler$$failJobAndIndependentStages(DAGScheduler.scala:1602)\n\tat org.apache.spark.scheduler.DAGScheduler$$anonfun$abortStage$1.apply(DAGScheduler.scala:1590)\n\tat org.apache.spark.scheduler.DAGScheduler$$anonfun$abortStage$1.apply(DAGScheduler.scala:1589)\n\tat scala.collection.mutable.ResizableArray$class.foreach(ResizableArray.scala:59)\n\tat scala.collection.mutable.ArrayBuffer.foreach(ArrayBuffer.scala:48)\n\tat org.apache.spark.scheduler.DAGScheduler.abortStage(DAGScheduler.scala:1589)\n\tat org.apache.spark.scheduler.DAGScheduler$$anonfun$handleTaskSetFailed$1.apply(DAGScheduler.scala:831)\n\tat org.apache.spark.scheduler.DAGScheduler$$anonfun$handleTaskSetFailed$1.apply(DAGScheduler.scala:831)\n\tat scala.Option.foreach(Option.scala:257)\n\tat org.apache.spark.scheduler.DAGScheduler.handleTaskSetFailed(DAGScheduler.scala:831)\n\tat org.apache.spark.scheduler.DAGSchedulerEventProcessLoop.doOnReceive(DAGScheduler.scala:1823)\n\tat org.apache.spark.scheduler.DAGSchedulerEventProcessLoop.onReceive(DAGScheduler.scala:1772)\n\tat org.apache.spark.scheduler.DAGSchedulerEventProcessLoop.onReceive(DAGScheduler.scala:1761)\n\tat org.apache.spark.util.EventLoop$$anon$1.run(EventLoop.scala:48)\n\tat org.apache.spark.scheduler.DAGScheduler.runJob(DAGScheduler.scala:642)\n\tat org.apache.spark.SparkContext.runJob(SparkContext.scala:2034)\n\tat org.apache.spark.SparkContext.runJob(SparkContext.scala:2055)\n\tat org.apache.spark.SparkContext.runJob(SparkContext.scala:2074)\n\tat org.apache.spark.SparkContext.runJob(SparkContext.scala:2099)\n\tat org.apache.spark.rdd.RDD$$anonfun$collect$1.apply(RDD.scala:939)\n\tat org.apache.spark.rdd.RDDOperationScope$.withScope(RDDOperationScope.scala:151)\n\tat org.apache.spark.rdd.RDDOperationScope$.withScope(RDDOperationScope.scala:112)\n\tat org.apache.spark.rdd.RDD.withScope(RDD.scala:363)\n\tat org.apache.spark.rdd.RDD.collect(RDD.scala:938)\n\tat org.apache.spark.api.python.PythonRDD$.collectAndServe(PythonRDD.scala:162)\n\tat org.apache.spark.api.python.PythonRDD.collectAndServe(PythonRDD.scala)\n\tat sun.reflect.NativeMethodAccessorImpl.invoke0(Native Method)\n\tat sun.reflect.NativeMethodAccessorImpl.invoke(NativeMethodAccessorImpl.java:62)\n\tat sun.reflect.DelegatingMethodAccessorImpl.invoke(DelegatingMethodAccessorImpl.java:43)\n\tat java.lang.reflect.Method.invoke(Method.java:498)\n\tat py4j.reflection.MethodInvoker.invoke(MethodInvoker.java:244)\n\tat py4j.reflection.ReflectionEngine.invoke(ReflectionEngine.java:357)\n\tat py4j.Gateway.invoke(Gateway.java:282)\n\tat py4j.commands.AbstractCommand.invokeMethod(AbstractCommand.java:132)\n\tat py4j.commands.CallCommand.execute(CallCommand.java:79)\n\tat py4j.GatewayConnection.run(GatewayConnection.java:238)\n\tat java.lang.Thread.run(Thread.java:748)\nCaused by: org.apache.spark.api.python.PythonException: Traceback (most recent call last):\n  File \"/usr/local/spark/python/lib/pyspark.zip/pyspark/worker.py\", line 230, in main\n    process()\n  File \"/usr/local/spark/python/lib/pyspark.zip/pyspark/worker.py\", line 225, in process\n    serializer.dump_stream(func(split_index, iterator), outfile)\n  File \"/usr/local/spark/python/lib/pyspark.zip/pyspark/serializers.py\", line 372, in dump_stream\n    vs = list(itertools.islice(iterator, batch))\n  File \"/usr/local/spark/python/pyspark/rdd.py\", line 857, in func\n    initial = next(iterator)\n  File \"/usr/local/spark/python/pyspark/rdd.py\", line 1271, in countPartition\n    for obj in iterator:\n  File \"/usr/local/spark/python/lib/pyspark.zip/pyspark/util.py\", line 55, in wrapper\n    return f(*args, **kwargs)\n  File \"<ipython-input-16-65078f2a439b>\", line 3, in parse\nUnicodeEncodeError: 'ascii' codec can't encode character u'\\u25b6' in position 552: ordinal not in range(128)\n\n\tat org.apache.spark.api.python.BasePythonRunner$ReaderIterator.handlePythonException(PythonRunner.scala:298)\n\tat org.apache.spark.api.python.PythonRunner$$anon$1.read(PythonRunner.scala:438)\n\tat org.apache.spark.api.python.PythonRunner$$anon$1.read(PythonRunner.scala:421)\n\tat org.apache.spark.api.python.BasePythonRunner$ReaderIterator.hasNext(PythonRunner.scala:252)\n\tat org.apache.spark.InterruptibleIterator.hasNext(InterruptibleIterator.scala:37)\n\tat scala.collection.Iterator$class.foreach(Iterator.scala:893)\n\tat org.apache.spark.InterruptibleIterator.foreach(InterruptibleIterator.scala:28)\n\tat scala.collection.generic.Growable$class.$plus$plus$eq(Growable.scala:59)\n\tat scala.collection.mutable.ArrayBuffer.$plus$plus$eq(ArrayBuffer.scala:104)\n\tat scala.collection.mutable.ArrayBuffer.$plus$plus$eq(ArrayBuffer.scala:48)\n\tat scala.collection.TraversableOnce$class.to(TraversableOnce.scala:310)\n\tat org.apache.spark.InterruptibleIterator.to(InterruptibleIterator.scala:28)\n\tat scala.collection.TraversableOnce$class.toBuffer(TraversableOnce.scala:302)\n\tat org.apache.spark.InterruptibleIterator.toBuffer(InterruptibleIterator.scala:28)\n\tat scala.collection.TraversableOnce$class.toArray(TraversableOnce.scala:289)\n\tat org.apache.spark.InterruptibleIterator.toArray(InterruptibleIterator.scala:28)\n\tat org.apache.spark.rdd.RDD$$anonfun$collect$1$$anonfun$12.apply(RDD.scala:939)\n\tat org.apache.spark.rdd.RDD$$anonfun$collect$1$$anonfun$12.apply(RDD.scala:939)\n\tat org.apache.spark.SparkContext$$anonfun$runJob$5.apply(SparkContext.scala:2074)\n\tat org.apache.spark.SparkContext$$anonfun$runJob$5.apply(SparkContext.scala:2074)\n\tat org.apache.spark.scheduler.ResultTask.runTask(ResultTask.scala:87)\n\tat org.apache.spark.scheduler.Task.run(Task.scala:109)\n\tat org.apache.spark.executor.Executor$TaskRunner.run(Executor.scala:345)\n\tat java.util.concurrent.ThreadPoolExecutor.runWorker(ThreadPoolExecutor.java:1149)\n\tat java.util.concurrent.ThreadPoolExecutor$Worker.run(ThreadPoolExecutor.java:624)\n\t... 1 more\n"
     ]
    }
   ],
   "source": [
    "usa.map(lambda x:x.category_id).countByValue()"
   ]
  },
  {
   "cell_type": "code",
   "execution_count": null,
   "metadata": {
    "collapsed": true
   },
   "outputs": [],
   "source": []
  },
  {
   "cell_type": "code",
   "execution_count": null,
   "metadata": {
    "collapsed": true
   },
   "outputs": [],
   "source": []
  },
  {
   "cell_type": "code",
   "execution_count": null,
   "metadata": {
    "collapsed": true
   },
   "outputs": [],
   "source": []
  },
  {
   "cell_type": "code",
   "execution_count": null,
   "metadata": {
    "collapsed": true
   },
   "outputs": [],
   "source": []
  }
 ],
 "metadata": {
  "kernelspec": {
   "display_name": "Python 2",
   "language": "python",
   "name": "python2"
  },
  "language_info": {
   "codemirror_mode": {
    "name": "ipython",
    "version": 2
   },
   "file_extension": ".py",
   "mimetype": "text/x-python",
   "name": "python",
   "nbconvert_exporter": "python",
   "pygments_lexer": "ipython2",
   "version": "2.7.13"
  }
 },
 "nbformat": 4,
 "nbformat_minor": 2
}
